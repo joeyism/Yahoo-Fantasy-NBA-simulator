{
 "cells": [
  {
   "cell_type": "markdown",
   "metadata": {},
   "source": [
    "# Sample Analysis"
   ]
  },
  {
   "cell_type": "markdown",
   "metadata": {},
   "source": [
    "This analysis is an example of how you can analyze the previous season data. Hopefully, that'll inform you on how to draft for the next season"
   ]
  },
  {
   "cell_type": "code",
   "execution_count": 1,
   "metadata": {},
   "outputs": [],
   "source": [
    "import os\n",
    "os.chdir(\"..\")"
   ]
  },
  {
   "cell_type": "code",
   "execution_count": 2,
   "metadata": {},
   "outputs": [],
   "source": [
    "import pandas as pd\n",
    "from lib import ScoringSystem\n",
    "from datetime import date\n",
    "from matplotlib import pyplot as plt"
   ]
  },
  {
   "cell_type": "code",
   "execution_count": 3,
   "metadata": {},
   "outputs": [],
   "source": [
    "df = pd.read_csv(\"data/previous_season_data.csv\")"
   ]
  },
  {
   "cell_type": "markdown",
   "metadata": {},
   "source": [
    "Just a note, this data includes the whole of regular season AND post-season"
   ]
  },
  {
   "cell_type": "code",
   "execution_count": 4,
   "metadata": {},
   "outputs": [
    {
     "data": {
      "text/plain": [
       "(27862, 24)"
      ]
     },
     "execution_count": 4,
     "metadata": {},
     "output_type": "execute_result"
    }
   ],
   "source": [
    "df.shape"
   ]
  },
  {
   "cell_type": "code",
   "execution_count": 5,
   "metadata": {},
   "outputs": [
    {
     "data": {
      "text/html": [
       "<div>\n",
       "<style scoped>\n",
       "    .dataframe tbody tr th:only-of-type {\n",
       "        vertical-align: middle;\n",
       "    }\n",
       "\n",
       "    .dataframe tbody tr th {\n",
       "        vertical-align: top;\n",
       "    }\n",
       "\n",
       "    .dataframe thead th {\n",
       "        text-align: right;\n",
       "    }\n",
       "</style>\n",
       "<table border=\"1\" class=\"dataframe\">\n",
       "  <thead>\n",
       "    <tr style=\"text-align: right;\">\n",
       "      <th></th>\n",
       "      <th>slug</th>\n",
       "      <th>name</th>\n",
       "      <th>team</th>\n",
       "      <th>location</th>\n",
       "      <th>opponent</th>\n",
       "      <th>outcome</th>\n",
       "      <th>seconds_played</th>\n",
       "      <th>made_field_goals</th>\n",
       "      <th>attempted_field_goals</th>\n",
       "      <th>made_three_point_field_goals</th>\n",
       "      <th>...</th>\n",
       "      <th>defensive_rebounds</th>\n",
       "      <th>total_rebounds</th>\n",
       "      <th>assists</th>\n",
       "      <th>steals</th>\n",
       "      <th>blocks</th>\n",
       "      <th>turnovers</th>\n",
       "      <th>personal_fouls</th>\n",
       "      <th>points</th>\n",
       "      <th>game_score</th>\n",
       "      <th>date</th>\n",
       "    </tr>\n",
       "  </thead>\n",
       "  <tbody>\n",
       "    <tr>\n",
       "      <th>0</th>\n",
       "      <td>curryst01</td>\n",
       "      <td>Stephen Curry</td>\n",
       "      <td>Team.GOLDEN_STATE_WARRIORS</td>\n",
       "      <td>Location.HOME</td>\n",
       "      <td>Team.OKLAHOMA_CITY_THUNDER</td>\n",
       "      <td>Outcome.WIN</td>\n",
       "      <td>2197</td>\n",
       "      <td>11</td>\n",
       "      <td>20</td>\n",
       "      <td>5</td>\n",
       "      <td>...</td>\n",
       "      <td>8</td>\n",
       "      <td>8</td>\n",
       "      <td>9</td>\n",
       "      <td>1</td>\n",
       "      <td>0</td>\n",
       "      <td>3</td>\n",
       "      <td>4</td>\n",
       "      <td>32</td>\n",
       "      <td>27.5</td>\n",
       "      <td>2018-10-16</td>\n",
       "    </tr>\n",
       "    <tr>\n",
       "      <th>1</th>\n",
       "      <td>simmobe01</td>\n",
       "      <td>Ben Simmons</td>\n",
       "      <td>Team.PHILADELPHIA_76ERS</td>\n",
       "      <td>Location.AWAY</td>\n",
       "      <td>Team.BOSTON_CELTICS</td>\n",
       "      <td>Outcome.LOSS</td>\n",
       "      <td>2565</td>\n",
       "      <td>7</td>\n",
       "      <td>14</td>\n",
       "      <td>0</td>\n",
       "      <td>...</td>\n",
       "      <td>12</td>\n",
       "      <td>15</td>\n",
       "      <td>8</td>\n",
       "      <td>4</td>\n",
       "      <td>2</td>\n",
       "      <td>3</td>\n",
       "      <td>5</td>\n",
       "      <td>19</td>\n",
       "      <td>21.7</td>\n",
       "      <td>2018-10-16</td>\n",
       "    </tr>\n",
       "    <tr>\n",
       "      <th>2</th>\n",
       "      <td>duranke01</td>\n",
       "      <td>Kevin Durant</td>\n",
       "      <td>Team.GOLDEN_STATE_WARRIORS</td>\n",
       "      <td>Location.HOME</td>\n",
       "      <td>Team.OKLAHOMA_CITY_THUNDER</td>\n",
       "      <td>Outcome.WIN</td>\n",
       "      <td>2263</td>\n",
       "      <td>9</td>\n",
       "      <td>21</td>\n",
       "      <td>0</td>\n",
       "      <td>...</td>\n",
       "      <td>7</td>\n",
       "      <td>8</td>\n",
       "      <td>6</td>\n",
       "      <td>1</td>\n",
       "      <td>1</td>\n",
       "      <td>3</td>\n",
       "      <td>4</td>\n",
       "      <td>27</td>\n",
       "      <td>19.6</td>\n",
       "      <td>2018-10-16</td>\n",
       "    </tr>\n",
       "    <tr>\n",
       "      <th>3</th>\n",
       "      <td>tatumja01</td>\n",
       "      <td>Jayson Tatum</td>\n",
       "      <td>Team.BOSTON_CELTICS</td>\n",
       "      <td>Location.HOME</td>\n",
       "      <td>Team.PHILADELPHIA_76ERS</td>\n",
       "      <td>Outcome.WIN</td>\n",
       "      <td>1736</td>\n",
       "      <td>9</td>\n",
       "      <td>17</td>\n",
       "      <td>1</td>\n",
       "      <td>...</td>\n",
       "      <td>7</td>\n",
       "      <td>9</td>\n",
       "      <td>3</td>\n",
       "      <td>1</td>\n",
       "      <td>0</td>\n",
       "      <td>1</td>\n",
       "      <td>2</td>\n",
       "      <td>23</td>\n",
       "      <td>19.1</td>\n",
       "      <td>2018-10-16</td>\n",
       "    </tr>\n",
       "    <tr>\n",
       "      <th>4</th>\n",
       "      <td>schrode01</td>\n",
       "      <td>Dennis Schröder</td>\n",
       "      <td>Team.OKLAHOMA_CITY_THUNDER</td>\n",
       "      <td>Location.AWAY</td>\n",
       "      <td>Team.GOLDEN_STATE_WARRIORS</td>\n",
       "      <td>Outcome.LOSS</td>\n",
       "      <td>2045</td>\n",
       "      <td>7</td>\n",
       "      <td>19</td>\n",
       "      <td>2</td>\n",
       "      <td>...</td>\n",
       "      <td>6</td>\n",
       "      <td>8</td>\n",
       "      <td>6</td>\n",
       "      <td>3</td>\n",
       "      <td>1</td>\n",
       "      <td>3</td>\n",
       "      <td>4</td>\n",
       "      <td>21</td>\n",
       "      <td>16.6</td>\n",
       "      <td>2018-10-16</td>\n",
       "    </tr>\n",
       "  </tbody>\n",
       "</table>\n",
       "<p>5 rows × 24 columns</p>\n",
       "</div>"
      ],
      "text/plain": [
       "        slug             name                        team       location  \\\n",
       "0  curryst01    Stephen Curry  Team.GOLDEN_STATE_WARRIORS  Location.HOME   \n",
       "1  simmobe01      Ben Simmons     Team.PHILADELPHIA_76ERS  Location.AWAY   \n",
       "2  duranke01     Kevin Durant  Team.GOLDEN_STATE_WARRIORS  Location.HOME   \n",
       "3  tatumja01     Jayson Tatum         Team.BOSTON_CELTICS  Location.HOME   \n",
       "4  schrode01  Dennis Schröder  Team.OKLAHOMA_CITY_THUNDER  Location.AWAY   \n",
       "\n",
       "                     opponent       outcome  seconds_played  made_field_goals  \\\n",
       "0  Team.OKLAHOMA_CITY_THUNDER   Outcome.WIN            2197                11   \n",
       "1         Team.BOSTON_CELTICS  Outcome.LOSS            2565                 7   \n",
       "2  Team.OKLAHOMA_CITY_THUNDER   Outcome.WIN            2263                 9   \n",
       "3     Team.PHILADELPHIA_76ERS   Outcome.WIN            1736                 9   \n",
       "4  Team.GOLDEN_STATE_WARRIORS  Outcome.LOSS            2045                 7   \n",
       "\n",
       "   attempted_field_goals  made_three_point_field_goals  ...  \\\n",
       "0                     20                             5  ...   \n",
       "1                     14                             0  ...   \n",
       "2                     21                             0  ...   \n",
       "3                     17                             1  ...   \n",
       "4                     19                             2  ...   \n",
       "\n",
       "   defensive_rebounds  total_rebounds  assists  steals  blocks  turnovers  \\\n",
       "0                   8               8        9       1       0          3   \n",
       "1                  12              15        8       4       2          3   \n",
       "2                   7               8        6       1       1          3   \n",
       "3                   7               9        3       1       0          1   \n",
       "4                   6               8        6       3       1          3   \n",
       "\n",
       "   personal_fouls  points  game_score        date  \n",
       "0               4      32        27.5  2018-10-16  \n",
       "1               5      19        21.7  2018-10-16  \n",
       "2               4      27        19.6  2018-10-16  \n",
       "3               2      23        19.1  2018-10-16  \n",
       "4               4      21        16.6  2018-10-16  \n",
       "\n",
       "[5 rows x 24 columns]"
      ]
     },
     "execution_count": 5,
     "metadata": {},
     "output_type": "execute_result"
    }
   ],
   "source": [
    "df.head()"
   ]
  },
  {
   "cell_type": "markdown",
   "metadata": {},
   "source": [
    "Turns out we get more than just average data, but data for each player for each game. This is way better, because we can dig deeper into the data rather than looking at the surface level"
   ]
  },
  {
   "cell_type": "code",
   "execution_count": 6,
   "metadata": {},
   "outputs": [],
   "source": [
    "player_slugs = df[\"slug\"].unique()"
   ]
  },
  {
   "cell_type": "markdown",
   "metadata": {},
   "source": [
    "## Points"
   ]
  },
  {
   "cell_type": "markdown",
   "metadata": {},
   "source": [
    "Let's get the average value for each player, the way we normally look at player, ordered by points per game descending"
   ]
  },
  {
   "cell_type": "code",
   "execution_count": 7,
   "metadata": {},
   "outputs": [
    {
     "data": {
      "text/html": [
       "<div>\n",
       "<style scoped>\n",
       "    .dataframe tbody tr th:only-of-type {\n",
       "        vertical-align: middle;\n",
       "    }\n",
       "\n",
       "    .dataframe tbody tr th {\n",
       "        vertical-align: top;\n",
       "    }\n",
       "\n",
       "    .dataframe thead th {\n",
       "        text-align: right;\n",
       "    }\n",
       "</style>\n",
       "<table border=\"1\" class=\"dataframe\">\n",
       "  <thead>\n",
       "    <tr style=\"text-align: right;\">\n",
       "      <th></th>\n",
       "      <th>seconds_played</th>\n",
       "      <th>made_field_goals</th>\n",
       "      <th>attempted_field_goals</th>\n",
       "      <th>made_three_point_field_goals</th>\n",
       "      <th>attempted_three_point_field_goals</th>\n",
       "      <th>made_free_throws</th>\n",
       "      <th>attempted_free_throws</th>\n",
       "      <th>offensive_rebounds</th>\n",
       "      <th>defensive_rebounds</th>\n",
       "      <th>total_rebounds</th>\n",
       "      <th>assists</th>\n",
       "      <th>steals</th>\n",
       "      <th>blocks</th>\n",
       "      <th>turnovers</th>\n",
       "      <th>personal_fouls</th>\n",
       "      <th>points</th>\n",
       "      <th>game_score</th>\n",
       "    </tr>\n",
       "    <tr>\n",
       "      <th>slug</th>\n",
       "      <th></th>\n",
       "      <th></th>\n",
       "      <th></th>\n",
       "      <th></th>\n",
       "      <th></th>\n",
       "      <th></th>\n",
       "      <th></th>\n",
       "      <th></th>\n",
       "      <th></th>\n",
       "      <th></th>\n",
       "      <th></th>\n",
       "      <th></th>\n",
       "      <th></th>\n",
       "      <th></th>\n",
       "      <th></th>\n",
       "      <th></th>\n",
       "      <th></th>\n",
       "    </tr>\n",
       "  </thead>\n",
       "  <tbody>\n",
       "    <tr>\n",
       "      <th>hardeja01</th>\n",
       "      <td>2218.573034</td>\n",
       "      <td>10.696629</td>\n",
       "      <td>24.415730</td>\n",
       "      <td>4.786517</td>\n",
       "      <td>13.089888</td>\n",
       "      <td>9.393258</td>\n",
       "      <td>10.741573</td>\n",
       "      <td>0.842697</td>\n",
       "      <td>5.831461</td>\n",
       "      <td>6.674157</td>\n",
       "      <td>7.404494</td>\n",
       "      <td>2.044944</td>\n",
       "      <td>0.764045</td>\n",
       "      <td>4.921348</td>\n",
       "      <td>3.202247</td>\n",
       "      <td>35.573034</td>\n",
       "      <td>26.121348</td>\n",
       "    </tr>\n",
       "    <tr>\n",
       "      <th>georgpa01</th>\n",
       "      <td>2228.280488</td>\n",
       "      <td>9.158537</td>\n",
       "      <td>20.914634</td>\n",
       "      <td>3.743902</td>\n",
       "      <td>9.804878</td>\n",
       "      <td>6.012195</td>\n",
       "      <td>7.182927</td>\n",
       "      <td>1.353659</td>\n",
       "      <td>6.829268</td>\n",
       "      <td>8.182927</td>\n",
       "      <td>4.097561</td>\n",
       "      <td>2.158537</td>\n",
       "      <td>0.426829</td>\n",
       "      <td>2.743902</td>\n",
       "      <td>2.865854</td>\n",
       "      <td>28.073171</td>\n",
       "      <td>21.059756</td>\n",
       "    </tr>\n",
       "    <tr>\n",
       "      <th>leonaka01</th>\n",
       "      <td>2128.333333</td>\n",
       "      <td>9.559524</td>\n",
       "      <td>19.345238</td>\n",
       "      <td>1.988095</td>\n",
       "      <td>5.321429</td>\n",
       "      <td>6.607143</td>\n",
       "      <td>7.642857</td>\n",
       "      <td>1.571429</td>\n",
       "      <td>6.250000</td>\n",
       "      <td>7.821429</td>\n",
       "      <td>3.488095</td>\n",
       "      <td>1.738095</td>\n",
       "      <td>0.488095</td>\n",
       "      <td>2.321429</td>\n",
       "      <td>1.702381</td>\n",
       "      <td>27.714286</td>\n",
       "      <td>22.076190</td>\n",
       "    </tr>\n",
       "    <tr>\n",
       "      <th>curryst01</th>\n",
       "      <td>2094.582418</td>\n",
       "      <td>9.032967</td>\n",
       "      <td>19.461538</td>\n",
       "      <td>4.901099</td>\n",
       "      <td>11.582418</td>\n",
       "      <td>4.516484</td>\n",
       "      <td>4.879121</td>\n",
       "      <td>0.681319</td>\n",
       "      <td>4.824176</td>\n",
       "      <td>5.505495</td>\n",
       "      <td>5.351648</td>\n",
       "      <td>1.274725</td>\n",
       "      <td>0.318681</td>\n",
       "      <td>2.835165</td>\n",
       "      <td>2.571429</td>\n",
       "      <td>27.483516</td>\n",
       "      <td>20.632967</td>\n",
       "    </tr>\n",
       "    <tr>\n",
       "      <th>jamesle01</th>\n",
       "      <td>2113.545455</td>\n",
       "      <td>10.145455</td>\n",
       "      <td>19.909091</td>\n",
       "      <td>2.018182</td>\n",
       "      <td>5.945455</td>\n",
       "      <td>5.054545</td>\n",
       "      <td>7.600000</td>\n",
       "      <td>1.036364</td>\n",
       "      <td>7.418182</td>\n",
       "      <td>8.454545</td>\n",
       "      <td>8.254545</td>\n",
       "      <td>1.309091</td>\n",
       "      <td>0.600000</td>\n",
       "      <td>3.581818</td>\n",
       "      <td>1.709091</td>\n",
       "      <td>27.363636</td>\n",
       "      <td>22.660000</td>\n",
       "    </tr>\n",
       "    <tr>\n",
       "      <th>...</th>\n",
       "      <td>...</td>\n",
       "      <td>...</td>\n",
       "      <td>...</td>\n",
       "      <td>...</td>\n",
       "      <td>...</td>\n",
       "      <td>...</td>\n",
       "      <td>...</td>\n",
       "      <td>...</td>\n",
       "      <td>...</td>\n",
       "      <td>...</td>\n",
       "      <td>...</td>\n",
       "      <td>...</td>\n",
       "      <td>...</td>\n",
       "      <td>...</td>\n",
       "      <td>...</td>\n",
       "      <td>...</td>\n",
       "      <td>...</td>\n",
       "    </tr>\n",
       "    <tr>\n",
       "      <th>loftoza01</th>\n",
       "      <td>225.000000</td>\n",
       "      <td>0.000000</td>\n",
       "      <td>1.000000</td>\n",
       "      <td>0.000000</td>\n",
       "      <td>1.000000</td>\n",
       "      <td>0.000000</td>\n",
       "      <td>0.000000</td>\n",
       "      <td>0.000000</td>\n",
       "      <td>0.000000</td>\n",
       "      <td>0.000000</td>\n",
       "      <td>0.000000</td>\n",
       "      <td>1.000000</td>\n",
       "      <td>0.000000</td>\n",
       "      <td>1.000000</td>\n",
       "      <td>0.000000</td>\n",
       "      <td>0.000000</td>\n",
       "      <td>-0.700000</td>\n",
       "    </tr>\n",
       "    <tr>\n",
       "      <th>ulisty01</th>\n",
       "      <td>49.000000</td>\n",
       "      <td>0.000000</td>\n",
       "      <td>0.000000</td>\n",
       "      <td>0.000000</td>\n",
       "      <td>0.000000</td>\n",
       "      <td>0.000000</td>\n",
       "      <td>0.000000</td>\n",
       "      <td>0.000000</td>\n",
       "      <td>0.000000</td>\n",
       "      <td>0.000000</td>\n",
       "      <td>0.000000</td>\n",
       "      <td>0.000000</td>\n",
       "      <td>0.000000</td>\n",
       "      <td>0.000000</td>\n",
       "      <td>0.000000</td>\n",
       "      <td>0.000000</td>\n",
       "      <td>0.000000</td>\n",
       "    </tr>\n",
       "    <tr>\n",
       "      <th>hollajo02</th>\n",
       "      <td>44.000000</td>\n",
       "      <td>0.000000</td>\n",
       "      <td>0.000000</td>\n",
       "      <td>0.000000</td>\n",
       "      <td>0.000000</td>\n",
       "      <td>0.000000</td>\n",
       "      <td>0.000000</td>\n",
       "      <td>0.000000</td>\n",
       "      <td>0.000000</td>\n",
       "      <td>0.000000</td>\n",
       "      <td>0.000000</td>\n",
       "      <td>0.000000</td>\n",
       "      <td>0.000000</td>\n",
       "      <td>0.000000</td>\n",
       "      <td>0.000000</td>\n",
       "      <td>0.000000</td>\n",
       "      <td>0.000000</td>\n",
       "    </tr>\n",
       "    <tr>\n",
       "      <th>ingraan01</th>\n",
       "      <td>219.000000</td>\n",
       "      <td>0.000000</td>\n",
       "      <td>1.500000</td>\n",
       "      <td>0.000000</td>\n",
       "      <td>0.750000</td>\n",
       "      <td>0.000000</td>\n",
       "      <td>0.000000</td>\n",
       "      <td>0.250000</td>\n",
       "      <td>0.250000</td>\n",
       "      <td>0.500000</td>\n",
       "      <td>0.000000</td>\n",
       "      <td>0.250000</td>\n",
       "      <td>0.000000</td>\n",
       "      <td>0.250000</td>\n",
       "      <td>0.000000</td>\n",
       "      <td>0.000000</td>\n",
       "      <td>-0.800000</td>\n",
       "    </tr>\n",
       "    <tr>\n",
       "      <th>davisty01</th>\n",
       "      <td>54.000000</td>\n",
       "      <td>0.000000</td>\n",
       "      <td>1.000000</td>\n",
       "      <td>0.000000</td>\n",
       "      <td>0.000000</td>\n",
       "      <td>0.000000</td>\n",
       "      <td>0.000000</td>\n",
       "      <td>1.000000</td>\n",
       "      <td>0.000000</td>\n",
       "      <td>1.000000</td>\n",
       "      <td>0.000000</td>\n",
       "      <td>0.000000</td>\n",
       "      <td>0.000000</td>\n",
       "      <td>0.000000</td>\n",
       "      <td>0.000000</td>\n",
       "      <td>0.000000</td>\n",
       "      <td>0.000000</td>\n",
       "    </tr>\n",
       "  </tbody>\n",
       "</table>\n",
       "<p>530 rows × 17 columns</p>\n",
       "</div>"
      ],
      "text/plain": [
       "           seconds_played  made_field_goals  attempted_field_goals  \\\n",
       "slug                                                                 \n",
       "hardeja01     2218.573034         10.696629              24.415730   \n",
       "georgpa01     2228.280488          9.158537              20.914634   \n",
       "leonaka01     2128.333333          9.559524              19.345238   \n",
       "curryst01     2094.582418          9.032967              19.461538   \n",
       "jamesle01     2113.545455         10.145455              19.909091   \n",
       "...                   ...               ...                    ...   \n",
       "loftoza01      225.000000          0.000000               1.000000   \n",
       "ulisty01        49.000000          0.000000               0.000000   \n",
       "hollajo02       44.000000          0.000000               0.000000   \n",
       "ingraan01      219.000000          0.000000               1.500000   \n",
       "davisty01       54.000000          0.000000               1.000000   \n",
       "\n",
       "           made_three_point_field_goals  attempted_three_point_field_goals  \\\n",
       "slug                                                                         \n",
       "hardeja01                      4.786517                          13.089888   \n",
       "georgpa01                      3.743902                           9.804878   \n",
       "leonaka01                      1.988095                           5.321429   \n",
       "curryst01                      4.901099                          11.582418   \n",
       "jamesle01                      2.018182                           5.945455   \n",
       "...                                 ...                                ...   \n",
       "loftoza01                      0.000000                           1.000000   \n",
       "ulisty01                       0.000000                           0.000000   \n",
       "hollajo02                      0.000000                           0.000000   \n",
       "ingraan01                      0.000000                           0.750000   \n",
       "davisty01                      0.000000                           0.000000   \n",
       "\n",
       "           made_free_throws  attempted_free_throws  offensive_rebounds  \\\n",
       "slug                                                                     \n",
       "hardeja01          9.393258              10.741573            0.842697   \n",
       "georgpa01          6.012195               7.182927            1.353659   \n",
       "leonaka01          6.607143               7.642857            1.571429   \n",
       "curryst01          4.516484               4.879121            0.681319   \n",
       "jamesle01          5.054545               7.600000            1.036364   \n",
       "...                     ...                    ...                 ...   \n",
       "loftoza01          0.000000               0.000000            0.000000   \n",
       "ulisty01           0.000000               0.000000            0.000000   \n",
       "hollajo02          0.000000               0.000000            0.000000   \n",
       "ingraan01          0.000000               0.000000            0.250000   \n",
       "davisty01          0.000000               0.000000            1.000000   \n",
       "\n",
       "           defensive_rebounds  total_rebounds   assists    steals    blocks  \\\n",
       "slug                                                                          \n",
       "hardeja01            5.831461        6.674157  7.404494  2.044944  0.764045   \n",
       "georgpa01            6.829268        8.182927  4.097561  2.158537  0.426829   \n",
       "leonaka01            6.250000        7.821429  3.488095  1.738095  0.488095   \n",
       "curryst01            4.824176        5.505495  5.351648  1.274725  0.318681   \n",
       "jamesle01            7.418182        8.454545  8.254545  1.309091  0.600000   \n",
       "...                       ...             ...       ...       ...       ...   \n",
       "loftoza01            0.000000        0.000000  0.000000  1.000000  0.000000   \n",
       "ulisty01             0.000000        0.000000  0.000000  0.000000  0.000000   \n",
       "hollajo02            0.000000        0.000000  0.000000  0.000000  0.000000   \n",
       "ingraan01            0.250000        0.500000  0.000000  0.250000  0.000000   \n",
       "davisty01            0.000000        1.000000  0.000000  0.000000  0.000000   \n",
       "\n",
       "           turnovers  personal_fouls     points  game_score  \n",
       "slug                                                         \n",
       "hardeja01   4.921348        3.202247  35.573034   26.121348  \n",
       "georgpa01   2.743902        2.865854  28.073171   21.059756  \n",
       "leonaka01   2.321429        1.702381  27.714286   22.076190  \n",
       "curryst01   2.835165        2.571429  27.483516   20.632967  \n",
       "jamesle01   3.581818        1.709091  27.363636   22.660000  \n",
       "...              ...             ...        ...         ...  \n",
       "loftoza01   1.000000        0.000000   0.000000   -0.700000  \n",
       "ulisty01    0.000000        0.000000   0.000000    0.000000  \n",
       "hollajo02   0.000000        0.000000   0.000000    0.000000  \n",
       "ingraan01   0.250000        0.000000   0.000000   -0.800000  \n",
       "davisty01   0.000000        0.000000   0.000000    0.000000  \n",
       "\n",
       "[530 rows x 17 columns]"
      ]
     },
     "execution_count": 7,
     "metadata": {},
     "output_type": "execute_result"
    }
   ],
   "source": [
    "df.groupby(\"slug\").mean().sort_values(by=\"points\", ascending=False)"
   ]
  },
  {
   "cell_type": "markdown",
   "metadata": {},
   "source": [
    "Now let's look at the standard deviation of these stats to see how they fluctuate, ordered by greatest ppg fluctuation"
   ]
  },
  {
   "cell_type": "code",
   "execution_count": 8,
   "metadata": {},
   "outputs": [
    {
     "data": {
      "text/html": [
       "<div>\n",
       "<style scoped>\n",
       "    .dataframe tbody tr th:only-of-type {\n",
       "        vertical-align: middle;\n",
       "    }\n",
       "\n",
       "    .dataframe tbody tr th {\n",
       "        vertical-align: top;\n",
       "    }\n",
       "\n",
       "    .dataframe thead th {\n",
       "        text-align: right;\n",
       "    }\n",
       "</style>\n",
       "<table border=\"1\" class=\"dataframe\">\n",
       "  <thead>\n",
       "    <tr style=\"text-align: right;\">\n",
       "      <th></th>\n",
       "      <th>seconds_played</th>\n",
       "      <th>made_field_goals</th>\n",
       "      <th>attempted_field_goals</th>\n",
       "      <th>made_three_point_field_goals</th>\n",
       "      <th>attempted_three_point_field_goals</th>\n",
       "      <th>made_free_throws</th>\n",
       "      <th>attempted_free_throws</th>\n",
       "      <th>offensive_rebounds</th>\n",
       "      <th>defensive_rebounds</th>\n",
       "      <th>total_rebounds</th>\n",
       "      <th>assists</th>\n",
       "      <th>steals</th>\n",
       "      <th>blocks</th>\n",
       "      <th>turnovers</th>\n",
       "      <th>personal_fouls</th>\n",
       "      <th>points</th>\n",
       "      <th>game_score</th>\n",
       "    </tr>\n",
       "    <tr>\n",
       "      <th>slug</th>\n",
       "      <th></th>\n",
       "      <th></th>\n",
       "      <th></th>\n",
       "      <th></th>\n",
       "      <th></th>\n",
       "      <th></th>\n",
       "      <th></th>\n",
       "      <th></th>\n",
       "      <th></th>\n",
       "      <th></th>\n",
       "      <th></th>\n",
       "      <th></th>\n",
       "      <th></th>\n",
       "      <th></th>\n",
       "      <th></th>\n",
       "      <th></th>\n",
       "      <th></th>\n",
       "    </tr>\n",
       "  </thead>\n",
       "  <tbody>\n",
       "    <tr>\n",
       "      <th>bookede01</th>\n",
       "      <td>405.071697</td>\n",
       "      <td>3.712778</td>\n",
       "      <td>5.750410</td>\n",
       "      <td>1.470527</td>\n",
       "      <td>2.883829</td>\n",
       "      <td>3.837440</td>\n",
       "      <td>4.366971</td>\n",
       "      <td>0.809020</td>\n",
       "      <td>2.174665</td>\n",
       "      <td>2.315354</td>\n",
       "      <td>2.947919</td>\n",
       "      <td>1.000000</td>\n",
       "      <td>0.442923</td>\n",
       "      <td>1.947730</td>\n",
       "      <td>1.385870</td>\n",
       "      <td>10.286183</td>\n",
       "      <td>8.737638</td>\n",
       "    </tr>\n",
       "    <tr>\n",
       "      <th>davisan02</th>\n",
       "      <td>467.659716</td>\n",
       "      <td>3.893885</td>\n",
       "      <td>6.393483</td>\n",
       "      <td>0.942503</td>\n",
       "      <td>1.846636</td>\n",
       "      <td>3.951656</td>\n",
       "      <td>4.266108</td>\n",
       "      <td>1.855494</td>\n",
       "      <td>3.906538</td>\n",
       "      <td>4.627978</td>\n",
       "      <td>2.188221</td>\n",
       "      <td>1.248376</td>\n",
       "      <td>1.436875</td>\n",
       "      <td>1.401298</td>\n",
       "      <td>1.285281</td>\n",
       "      <td>10.111842</td>\n",
       "      <td>9.481725</td>\n",
       "    </tr>\n",
       "    <tr>\n",
       "      <th>walkeke02</th>\n",
       "      <td>271.575290</td>\n",
       "      <td>3.712512</td>\n",
       "      <td>5.352270</td>\n",
       "      <td>1.897398</td>\n",
       "      <td>2.982257</td>\n",
       "      <td>3.619263</td>\n",
       "      <td>4.125332</td>\n",
       "      <td>0.728811</td>\n",
       "      <td>2.289529</td>\n",
       "      <td>2.382341</td>\n",
       "      <td>2.417068</td>\n",
       "      <td>1.222838</td>\n",
       "      <td>0.627580</td>\n",
       "      <td>1.735828</td>\n",
       "      <td>1.174416</td>\n",
       "      <td>10.052347</td>\n",
       "      <td>9.117261</td>\n",
       "    </tr>\n",
       "    <tr>\n",
       "      <th>hardeja01</th>\n",
       "      <td>265.240324</td>\n",
       "      <td>3.072623</td>\n",
       "      <td>6.154837</td>\n",
       "      <td>2.086057</td>\n",
       "      <td>3.797848</td>\n",
       "      <td>4.874838</td>\n",
       "      <td>5.316202</td>\n",
       "      <td>1.010163</td>\n",
       "      <td>2.788923</td>\n",
       "      <td>3.107086</td>\n",
       "      <td>3.346365</td>\n",
       "      <td>1.551466</td>\n",
       "      <td>0.879340</td>\n",
       "      <td>2.073780</td>\n",
       "      <td>1.262931</td>\n",
       "      <td>9.955455</td>\n",
       "      <td>9.679588</td>\n",
       "    </tr>\n",
       "    <tr>\n",
       "      <th>curryst01</th>\n",
       "      <td>319.666738</td>\n",
       "      <td>3.078421</td>\n",
       "      <td>5.051529</td>\n",
       "      <td>2.436094</td>\n",
       "      <td>3.660801</td>\n",
       "      <td>3.290939</td>\n",
       "      <td>3.441044</td>\n",
       "      <td>0.854779</td>\n",
       "      <td>2.253853</td>\n",
       "      <td>2.455713</td>\n",
       "      <td>2.432985</td>\n",
       "      <td>1.054787</td>\n",
       "      <td>0.555360</td>\n",
       "      <td>1.529442</td>\n",
       "      <td>1.415336</td>\n",
       "      <td>9.421444</td>\n",
       "      <td>8.837911</td>\n",
       "    </tr>\n",
       "    <tr>\n",
       "      <th>...</th>\n",
       "      <td>...</td>\n",
       "      <td>...</td>\n",
       "      <td>...</td>\n",
       "      <td>...</td>\n",
       "      <td>...</td>\n",
       "      <td>...</td>\n",
       "      <td>...</td>\n",
       "      <td>...</td>\n",
       "      <td>...</td>\n",
       "      <td>...</td>\n",
       "      <td>...</td>\n",
       "      <td>...</td>\n",
       "      <td>...</td>\n",
       "      <td>...</td>\n",
       "      <td>...</td>\n",
       "      <td>...</td>\n",
       "      <td>...</td>\n",
       "    </tr>\n",
       "    <tr>\n",
       "      <th>qizh01</th>\n",
       "      <td>NaN</td>\n",
       "      <td>NaN</td>\n",
       "      <td>NaN</td>\n",
       "      <td>NaN</td>\n",
       "      <td>NaN</td>\n",
       "      <td>NaN</td>\n",
       "      <td>NaN</td>\n",
       "      <td>NaN</td>\n",
       "      <td>NaN</td>\n",
       "      <td>NaN</td>\n",
       "      <td>NaN</td>\n",
       "      <td>NaN</td>\n",
       "      <td>NaN</td>\n",
       "      <td>NaN</td>\n",
       "      <td>NaN</td>\n",
       "      <td>NaN</td>\n",
       "      <td>NaN</td>\n",
       "    </tr>\n",
       "    <tr>\n",
       "      <th>siberjo01</th>\n",
       "      <td>NaN</td>\n",
       "      <td>NaN</td>\n",
       "      <td>NaN</td>\n",
       "      <td>NaN</td>\n",
       "      <td>NaN</td>\n",
       "      <td>NaN</td>\n",
       "      <td>NaN</td>\n",
       "      <td>NaN</td>\n",
       "      <td>NaN</td>\n",
       "      <td>NaN</td>\n",
       "      <td>NaN</td>\n",
       "      <td>NaN</td>\n",
       "      <td>NaN</td>\n",
       "      <td>NaN</td>\n",
       "      <td>NaN</td>\n",
       "      <td>NaN</td>\n",
       "      <td>NaN</td>\n",
       "    </tr>\n",
       "    <tr>\n",
       "      <th>simmoko01</th>\n",
       "      <td>NaN</td>\n",
       "      <td>NaN</td>\n",
       "      <td>NaN</td>\n",
       "      <td>NaN</td>\n",
       "      <td>NaN</td>\n",
       "      <td>NaN</td>\n",
       "      <td>NaN</td>\n",
       "      <td>NaN</td>\n",
       "      <td>NaN</td>\n",
       "      <td>NaN</td>\n",
       "      <td>NaN</td>\n",
       "      <td>NaN</td>\n",
       "      <td>NaN</td>\n",
       "      <td>NaN</td>\n",
       "      <td>NaN</td>\n",
       "      <td>NaN</td>\n",
       "      <td>NaN</td>\n",
       "    </tr>\n",
       "    <tr>\n",
       "      <th>stephdj01</th>\n",
       "      <td>NaN</td>\n",
       "      <td>NaN</td>\n",
       "      <td>NaN</td>\n",
       "      <td>NaN</td>\n",
       "      <td>NaN</td>\n",
       "      <td>NaN</td>\n",
       "      <td>NaN</td>\n",
       "      <td>NaN</td>\n",
       "      <td>NaN</td>\n",
       "      <td>NaN</td>\n",
       "      <td>NaN</td>\n",
       "      <td>NaN</td>\n",
       "      <td>NaN</td>\n",
       "      <td>NaN</td>\n",
       "      <td>NaN</td>\n",
       "      <td>NaN</td>\n",
       "      <td>NaN</td>\n",
       "    </tr>\n",
       "    <tr>\n",
       "      <th>ulisty01</th>\n",
       "      <td>NaN</td>\n",
       "      <td>NaN</td>\n",
       "      <td>NaN</td>\n",
       "      <td>NaN</td>\n",
       "      <td>NaN</td>\n",
       "      <td>NaN</td>\n",
       "      <td>NaN</td>\n",
       "      <td>NaN</td>\n",
       "      <td>NaN</td>\n",
       "      <td>NaN</td>\n",
       "      <td>NaN</td>\n",
       "      <td>NaN</td>\n",
       "      <td>NaN</td>\n",
       "      <td>NaN</td>\n",
       "      <td>NaN</td>\n",
       "      <td>NaN</td>\n",
       "      <td>NaN</td>\n",
       "    </tr>\n",
       "  </tbody>\n",
       "</table>\n",
       "<p>530 rows × 17 columns</p>\n",
       "</div>"
      ],
      "text/plain": [
       "           seconds_played  made_field_goals  attempted_field_goals  \\\n",
       "slug                                                                 \n",
       "bookede01      405.071697          3.712778               5.750410   \n",
       "davisan02      467.659716          3.893885               6.393483   \n",
       "walkeke02      271.575290          3.712512               5.352270   \n",
       "hardeja01      265.240324          3.072623               6.154837   \n",
       "curryst01      319.666738          3.078421               5.051529   \n",
       "...                   ...               ...                    ...   \n",
       "qizh01                NaN               NaN                    NaN   \n",
       "siberjo01             NaN               NaN                    NaN   \n",
       "simmoko01             NaN               NaN                    NaN   \n",
       "stephdj01             NaN               NaN                    NaN   \n",
       "ulisty01              NaN               NaN                    NaN   \n",
       "\n",
       "           made_three_point_field_goals  attempted_three_point_field_goals  \\\n",
       "slug                                                                         \n",
       "bookede01                      1.470527                           2.883829   \n",
       "davisan02                      0.942503                           1.846636   \n",
       "walkeke02                      1.897398                           2.982257   \n",
       "hardeja01                      2.086057                           3.797848   \n",
       "curryst01                      2.436094                           3.660801   \n",
       "...                                 ...                                ...   \n",
       "qizh01                              NaN                                NaN   \n",
       "siberjo01                           NaN                                NaN   \n",
       "simmoko01                           NaN                                NaN   \n",
       "stephdj01                           NaN                                NaN   \n",
       "ulisty01                            NaN                                NaN   \n",
       "\n",
       "           made_free_throws  attempted_free_throws  offensive_rebounds  \\\n",
       "slug                                                                     \n",
       "bookede01          3.837440               4.366971            0.809020   \n",
       "davisan02          3.951656               4.266108            1.855494   \n",
       "walkeke02          3.619263               4.125332            0.728811   \n",
       "hardeja01          4.874838               5.316202            1.010163   \n",
       "curryst01          3.290939               3.441044            0.854779   \n",
       "...                     ...                    ...                 ...   \n",
       "qizh01                  NaN                    NaN                 NaN   \n",
       "siberjo01               NaN                    NaN                 NaN   \n",
       "simmoko01               NaN                    NaN                 NaN   \n",
       "stephdj01               NaN                    NaN                 NaN   \n",
       "ulisty01                NaN                    NaN                 NaN   \n",
       "\n",
       "           defensive_rebounds  total_rebounds   assists    steals    blocks  \\\n",
       "slug                                                                          \n",
       "bookede01            2.174665        2.315354  2.947919  1.000000  0.442923   \n",
       "davisan02            3.906538        4.627978  2.188221  1.248376  1.436875   \n",
       "walkeke02            2.289529        2.382341  2.417068  1.222838  0.627580   \n",
       "hardeja01            2.788923        3.107086  3.346365  1.551466  0.879340   \n",
       "curryst01            2.253853        2.455713  2.432985  1.054787  0.555360   \n",
       "...                       ...             ...       ...       ...       ...   \n",
       "qizh01                    NaN             NaN       NaN       NaN       NaN   \n",
       "siberjo01                 NaN             NaN       NaN       NaN       NaN   \n",
       "simmoko01                 NaN             NaN       NaN       NaN       NaN   \n",
       "stephdj01                 NaN             NaN       NaN       NaN       NaN   \n",
       "ulisty01                  NaN             NaN       NaN       NaN       NaN   \n",
       "\n",
       "           turnovers  personal_fouls     points  game_score  \n",
       "slug                                                         \n",
       "bookede01   1.947730        1.385870  10.286183    8.737638  \n",
       "davisan02   1.401298        1.285281  10.111842    9.481725  \n",
       "walkeke02   1.735828        1.174416  10.052347    9.117261  \n",
       "hardeja01   2.073780        1.262931   9.955455    9.679588  \n",
       "curryst01   1.529442        1.415336   9.421444    8.837911  \n",
       "...              ...             ...        ...         ...  \n",
       "qizh01           NaN             NaN        NaN         NaN  \n",
       "siberjo01        NaN             NaN        NaN         NaN  \n",
       "simmoko01        NaN             NaN        NaN         NaN  \n",
       "stephdj01        NaN             NaN        NaN         NaN  \n",
       "ulisty01         NaN             NaN        NaN         NaN  \n",
       "\n",
       "[530 rows x 17 columns]"
      ]
     },
     "execution_count": 8,
     "metadata": {},
     "output_type": "execute_result"
    }
   ],
   "source": [
    "df.groupby(\"slug\").std().sort_values(by=\"points\", ascending=False)"
   ]
  },
  {
   "cell_type": "markdown",
   "metadata": {},
   "source": [
    "Interestingly, Devin Booker has the greatest fluctuation, then AD, then Kemba."
   ]
  },
  {
   "cell_type": "markdown",
   "metadata": {},
   "source": [
    "### Efficient Scoring"
   ]
  },
  {
   "cell_type": "markdown",
   "metadata": {},
   "source": [
    "I also want to see points per game based on minutes played"
   ]
  },
  {
   "cell_type": "code",
   "execution_count": 9,
   "metadata": {},
   "outputs": [],
   "source": [
    "df[\"minutes_played\"] = df[\"seconds_played\"]/60"
   ]
  },
  {
   "cell_type": "code",
   "execution_count": 10,
   "metadata": {},
   "outputs": [
    {
     "data": {
      "text/html": [
       "<div>\n",
       "<style scoped>\n",
       "    .dataframe tbody tr th:only-of-type {\n",
       "        vertical-align: middle;\n",
       "    }\n",
       "\n",
       "    .dataframe tbody tr th {\n",
       "        vertical-align: top;\n",
       "    }\n",
       "\n",
       "    .dataframe thead th {\n",
       "        text-align: right;\n",
       "    }\n",
       "</style>\n",
       "<table border=\"1\" class=\"dataframe\">\n",
       "  <thead>\n",
       "    <tr style=\"text-align: right;\">\n",
       "      <th></th>\n",
       "      <th>minutes_played</th>\n",
       "      <th>points_per_minute</th>\n",
       "    </tr>\n",
       "    <tr>\n",
       "      <th>slug</th>\n",
       "      <th></th>\n",
       "      <th></th>\n",
       "    </tr>\n",
       "  </thead>\n",
       "  <tbody>\n",
       "    <tr>\n",
       "      <th>qizh01</th>\n",
       "      <td>0.950000</td>\n",
       "      <td>2.105263</td>\n",
       "    </tr>\n",
       "    <tr>\n",
       "      <th>hardeja01</th>\n",
       "      <td>36.976217</td>\n",
       "      <td>0.962052</td>\n",
       "    </tr>\n",
       "    <tr>\n",
       "      <th>duvaltr01</th>\n",
       "      <td>1.861111</td>\n",
       "      <td>0.895522</td>\n",
       "    </tr>\n",
       "    <tr>\n",
       "      <th>antetgi01</th>\n",
       "      <td>33.014176</td>\n",
       "      <td>0.827579</td>\n",
       "    </tr>\n",
       "    <tr>\n",
       "      <th>embiijo01</th>\n",
       "      <td>33.182000</td>\n",
       "      <td>0.796818</td>\n",
       "    </tr>\n",
       "    <tr>\n",
       "      <th>...</th>\n",
       "      <td>...</td>\n",
       "      <td>...</td>\n",
       "    </tr>\n",
       "    <tr>\n",
       "      <th>kingge03</th>\n",
       "      <td>5.900000</td>\n",
       "      <td>0.000000</td>\n",
       "    </tr>\n",
       "    <tr>\n",
       "      <th>whiteok01</th>\n",
       "      <td>2.088889</td>\n",
       "      <td>0.000000</td>\n",
       "    </tr>\n",
       "    <tr>\n",
       "      <th>ulisty01</th>\n",
       "      <td>0.816667</td>\n",
       "      <td>0.000000</td>\n",
       "    </tr>\n",
       "    <tr>\n",
       "      <th>hollajo02</th>\n",
       "      <td>0.733333</td>\n",
       "      <td>0.000000</td>\n",
       "    </tr>\n",
       "    <tr>\n",
       "      <th>simmoko01</th>\n",
       "      <td>1.800000</td>\n",
       "      <td>0.000000</td>\n",
       "    </tr>\n",
       "  </tbody>\n",
       "</table>\n",
       "<p>530 rows × 2 columns</p>\n",
       "</div>"
      ],
      "text/plain": [
       "           minutes_played  points_per_minute\n",
       "slug                                        \n",
       "qizh01           0.950000           2.105263\n",
       "hardeja01       36.976217           0.962052\n",
       "duvaltr01        1.861111           0.895522\n",
       "antetgi01       33.014176           0.827579\n",
       "embiijo01       33.182000           0.796818\n",
       "...                   ...                ...\n",
       "kingge03         5.900000           0.000000\n",
       "whiteok01        2.088889           0.000000\n",
       "ulisty01         0.816667           0.000000\n",
       "hollajo02        0.733333           0.000000\n",
       "simmoko01        1.800000           0.000000\n",
       "\n",
       "[530 rows x 2 columns]"
      ]
     },
     "execution_count": 10,
     "metadata": {},
     "output_type": "execute_result"
    }
   ],
   "source": [
    "df_avg = df.groupby(\"slug\").mean()\n",
    "df_avg[\"points_per_minute\"] = df_avg[\"points\"]/df_avg[\"minutes_played\"]\n",
    "df_avg.sort_values(by=\"points_per_minute\", ascending=False)[[\"minutes_played\", \"points_per_minute\"]]"
   ]
  },
  {
   "cell_type": "markdown",
   "metadata": {},
   "source": [
    "Obviously, players who have low minutes might randomly do better. If I played for 2 minutes once, and scored 2 points, I would seem like a god in this scenario. So let's arbitrarily show players who played more than 5 minutes per game, which we know removes end-of-the-bench type players"
   ]
  },
  {
   "cell_type": "code",
   "execution_count": 11,
   "metadata": {},
   "outputs": [
    {
     "data": {
      "text/html": [
       "<div>\n",
       "<style scoped>\n",
       "    .dataframe tbody tr th:only-of-type {\n",
       "        vertical-align: middle;\n",
       "    }\n",
       "\n",
       "    .dataframe tbody tr th {\n",
       "        vertical-align: top;\n",
       "    }\n",
       "\n",
       "    .dataframe thead th {\n",
       "        text-align: right;\n",
       "    }\n",
       "</style>\n",
       "<table border=\"1\" class=\"dataframe\">\n",
       "  <thead>\n",
       "    <tr style=\"text-align: right;\">\n",
       "      <th></th>\n",
       "      <th>minutes_played</th>\n",
       "      <th>points_per_minute</th>\n",
       "    </tr>\n",
       "    <tr>\n",
       "      <th>slug</th>\n",
       "      <th></th>\n",
       "      <th></th>\n",
       "    </tr>\n",
       "  </thead>\n",
       "  <tbody>\n",
       "    <tr>\n",
       "      <th>hardeja01</th>\n",
       "      <td>36.976217</td>\n",
       "      <td>0.962052</td>\n",
       "    </tr>\n",
       "    <tr>\n",
       "      <th>antetgi01</th>\n",
       "      <td>33.014176</td>\n",
       "      <td>0.827579</td>\n",
       "    </tr>\n",
       "    <tr>\n",
       "      <th>embiijo01</th>\n",
       "      <td>33.182000</td>\n",
       "      <td>0.796818</td>\n",
       "    </tr>\n",
       "    <tr>\n",
       "      <th>curryst01</th>\n",
       "      <td>34.909707</td>\n",
       "      <td>0.787274</td>\n",
       "    </tr>\n",
       "    <tr>\n",
       "      <th>davisan02</th>\n",
       "      <td>33.034821</td>\n",
       "      <td>0.784886</td>\n",
       "    </tr>\n",
       "    <tr>\n",
       "      <th>...</th>\n",
       "      <td>...</td>\n",
       "      <td>...</td>\n",
       "    </tr>\n",
       "    <tr>\n",
       "      <th>acyqu01</th>\n",
       "      <td>12.291667</td>\n",
       "      <td>0.138305</td>\n",
       "    </tr>\n",
       "    <tr>\n",
       "      <th>moreler01</th>\n",
       "      <td>5.491026</td>\n",
       "      <td>0.126080</td>\n",
       "    </tr>\n",
       "    <tr>\n",
       "      <th>evansja01</th>\n",
       "      <td>8.043750</td>\n",
       "      <td>0.093240</td>\n",
       "    </tr>\n",
       "    <tr>\n",
       "      <th>bakerro01</th>\n",
       "      <td>10.131111</td>\n",
       "      <td>0.092125</td>\n",
       "    </tr>\n",
       "    <tr>\n",
       "      <th>kingge03</th>\n",
       "      <td>5.900000</td>\n",
       "      <td>0.000000</td>\n",
       "    </tr>\n",
       "  </tbody>\n",
       "</table>\n",
       "<p>498 rows × 2 columns</p>\n",
       "</div>"
      ],
      "text/plain": [
       "           minutes_played  points_per_minute\n",
       "slug                                        \n",
       "hardeja01       36.976217           0.962052\n",
       "antetgi01       33.014176           0.827579\n",
       "embiijo01       33.182000           0.796818\n",
       "curryst01       34.909707           0.787274\n",
       "davisan02       33.034821           0.784886\n",
       "...                   ...                ...\n",
       "acyqu01         12.291667           0.138305\n",
       "moreler01        5.491026           0.126080\n",
       "evansja01        8.043750           0.093240\n",
       "bakerro01       10.131111           0.092125\n",
       "kingge03         5.900000           0.000000\n",
       "\n",
       "[498 rows x 2 columns]"
      ]
     },
     "execution_count": 11,
     "metadata": {},
     "output_type": "execute_result"
    }
   ],
   "source": [
    "df_avg[df_avg[\"minutes_played\"] > 5].sort_values(by=\"points_per_minute\", ascending=False)[[\"minutes_played\", \"points_per_minute\"]]"
   ]
  },
  {
   "cell_type": "code",
   "execution_count": 12,
   "metadata": {},
   "outputs": [
    {
     "data": {
      "text/html": [
       "<div>\n",
       "<style scoped>\n",
       "    .dataframe tbody tr th:only-of-type {\n",
       "        vertical-align: middle;\n",
       "    }\n",
       "\n",
       "    .dataframe tbody tr th {\n",
       "        vertical-align: top;\n",
       "    }\n",
       "\n",
       "    .dataframe thead th {\n",
       "        text-align: right;\n",
       "    }\n",
       "</style>\n",
       "<table border=\"1\" class=\"dataframe\">\n",
       "  <thead>\n",
       "    <tr style=\"text-align: right;\">\n",
       "      <th></th>\n",
       "      <th>slug</th>\n",
       "      <th>minutes_played</th>\n",
       "      <th>points_per_minute</th>\n",
       "    </tr>\n",
       "  </thead>\n",
       "  <tbody>\n",
       "    <tr>\n",
       "      <th>0</th>\n",
       "      <td>hardeja01</td>\n",
       "      <td>36.976217</td>\n",
       "      <td>0.962052</td>\n",
       "    </tr>\n",
       "    <tr>\n",
       "      <th>1</th>\n",
       "      <td>antetgi01</td>\n",
       "      <td>33.014176</td>\n",
       "      <td>0.827579</td>\n",
       "    </tr>\n",
       "    <tr>\n",
       "      <th>2</th>\n",
       "      <td>embiijo01</td>\n",
       "      <td>33.182000</td>\n",
       "      <td>0.796818</td>\n",
       "    </tr>\n",
       "    <tr>\n",
       "      <th>3</th>\n",
       "      <td>curryst01</td>\n",
       "      <td>34.909707</td>\n",
       "      <td>0.787274</td>\n",
       "    </tr>\n",
       "    <tr>\n",
       "      <th>4</th>\n",
       "      <td>davisan02</td>\n",
       "      <td>33.034821</td>\n",
       "      <td>0.784886</td>\n",
       "    </tr>\n",
       "    <tr>\n",
       "      <th>5</th>\n",
       "      <td>leonaka01</td>\n",
       "      <td>35.472222</td>\n",
       "      <td>0.781295</td>\n",
       "    </tr>\n",
       "    <tr>\n",
       "      <th>6</th>\n",
       "      <td>jamesle01</td>\n",
       "      <td>35.225758</td>\n",
       "      <td>0.776808</td>\n",
       "    </tr>\n",
       "    <tr>\n",
       "      <th>7</th>\n",
       "      <td>duranke01</td>\n",
       "      <td>34.924630</td>\n",
       "      <td>0.768003</td>\n",
       "    </tr>\n",
       "    <tr>\n",
       "      <th>8</th>\n",
       "      <td>bookede01</td>\n",
       "      <td>35.033333</td>\n",
       "      <td>0.758206</td>\n",
       "    </tr>\n",
       "    <tr>\n",
       "      <th>9</th>\n",
       "      <td>georgpa01</td>\n",
       "      <td>37.138008</td>\n",
       "      <td>0.755915</td>\n",
       "    </tr>\n",
       "    <tr>\n",
       "      <th>10</th>\n",
       "      <td>willilo02</td>\n",
       "      <td>26.783128</td>\n",
       "      <td>0.750426</td>\n",
       "    </tr>\n",
       "    <tr>\n",
       "      <th>11</th>\n",
       "      <td>townska01</td>\n",
       "      <td>33.047186</td>\n",
       "      <td>0.738810</td>\n",
       "    </tr>\n",
       "    <tr>\n",
       "      <th>12</th>\n",
       "      <td>walkeke02</td>\n",
       "      <td>34.909350</td>\n",
       "      <td>0.734306</td>\n",
       "    </tr>\n",
       "    <tr>\n",
       "      <th>13</th>\n",
       "      <td>lillada01</td>\n",
       "      <td>36.333160</td>\n",
       "      <td>0.715886</td>\n",
       "    </tr>\n",
       "    <tr>\n",
       "      <th>14</th>\n",
       "      <td>griffbl01</td>\n",
       "      <td>34.811688</td>\n",
       "      <td>0.705092</td>\n",
       "    </tr>\n",
       "    <tr>\n",
       "      <th>15</th>\n",
       "      <td>willial03</td>\n",
       "      <td>5.106667</td>\n",
       "      <td>0.704961</td>\n",
       "    </tr>\n",
       "    <tr>\n",
       "      <th>16</th>\n",
       "      <td>irvinky01</td>\n",
       "      <td>33.476316</td>\n",
       "      <td>0.702775</td>\n",
       "    </tr>\n",
       "    <tr>\n",
       "      <th>17</th>\n",
       "      <td>randlju01</td>\n",
       "      <td>30.571005</td>\n",
       "      <td>0.701264</td>\n",
       "    </tr>\n",
       "    <tr>\n",
       "      <th>18</th>\n",
       "      <td>valanjo01</td>\n",
       "      <td>22.268367</td>\n",
       "      <td>0.699262</td>\n",
       "    </tr>\n",
       "    <tr>\n",
       "      <th>19</th>\n",
       "      <td>russeda01</td>\n",
       "      <td>30.185659</td>\n",
       "      <td>0.696850</td>\n",
       "    </tr>\n",
       "  </tbody>\n",
       "</table>\n",
       "</div>"
      ],
      "text/plain": [
       "         slug  minutes_played  points_per_minute\n",
       "0   hardeja01       36.976217           0.962052\n",
       "1   antetgi01       33.014176           0.827579\n",
       "2   embiijo01       33.182000           0.796818\n",
       "3   curryst01       34.909707           0.787274\n",
       "4   davisan02       33.034821           0.784886\n",
       "5   leonaka01       35.472222           0.781295\n",
       "6   jamesle01       35.225758           0.776808\n",
       "7   duranke01       34.924630           0.768003\n",
       "8   bookede01       35.033333           0.758206\n",
       "9   georgpa01       37.138008           0.755915\n",
       "10  willilo02       26.783128           0.750426\n",
       "11  townska01       33.047186           0.738810\n",
       "12  walkeke02       34.909350           0.734306\n",
       "13  lillada01       36.333160           0.715886\n",
       "14  griffbl01       34.811688           0.705092\n",
       "15  willial03        5.106667           0.704961\n",
       "16  irvinky01       33.476316           0.702775\n",
       "17  randlju01       30.571005           0.701264\n",
       "18  valanjo01       22.268367           0.699262\n",
       "19  russeda01       30.185659           0.696850"
      ]
     },
     "execution_count": 12,
     "metadata": {},
     "output_type": "execute_result"
    }
   ],
   "source": [
    "df_avg[df_avg[\"minutes_played\"] > 5].sort_values(by=\"points_per_minute\", ascending=False)[[\"minutes_played\", \"points_per_minute\"]].head(20).reset_index()"
   ]
  },
  {
   "cell_type": "markdown",
   "metadata": {},
   "source": [
    "Harden was hyper efficient. The gap between him and Giannis (2nd) in points per minute is greater than the gap between Giannis and Kyrie (16th). Interesting argument for MVP that season."
   ]
  },
  {
   "cell_type": "markdown",
   "metadata": {},
   "source": [
    "### Scoring Improvements"
   ]
  },
  {
   "cell_type": "markdown",
   "metadata": {},
   "source": [
    "Let's try to find the rate of scoring improvement for all players"
   ]
  },
  {
   "cell_type": "code",
   "execution_count": 13,
   "metadata": {},
   "outputs": [],
   "source": [
    "import numpy as np"
   ]
  },
  {
   "cell_type": "code",
   "execution_count": 14,
   "metadata": {},
   "outputs": [
    {
     "name": "stderr",
     "output_type": "stream",
     "text": [
      "Each player:   0%|          | 0/530 [00:00<?, ?it/s]/home/joeyism/Programming/python/fantasy-basketball/venv/lib/python3.6/site-packages/ipykernel_launcher.py:6: FutureWarning: `rcond` parameter will change to the default of machine precision times ``max(M, N)`` where M and N are the input matrix dimensions.\n",
      "To use the future default and silence this warning we advise to pass `rcond=None`, to keep using the old, explicitly pass `rcond=-1`.\n",
      "  \n",
      "Each player: 100%|██████████| 530/530 [00:02<00:00, 185.77it/s]\n"
     ]
    }
   ],
   "source": [
    "from tqdm import tqdm\n",
    "\n",
    "def get_player_stat_fit(player_slug, stat=\"points\"):\n",
    "    df_player = df[df[\"slug\"] == player_slug]\n",
    "    N = df_player.shape[0]\n",
    "    m, c = np.linalg.lstsq(np.dstack((np.arange(N), np.ones(N)))[0], df_player[stat].values)[0]\n",
    "    return m, c\n",
    "\n",
    "player_ppg_improvement = []\n",
    "for player_slug in tqdm(player_slugs, desc=\"Each player\"):\n",
    "    m, c = get_player_stat_fit(player_slug)\n",
    "    player_ppg_improvement.append((player_slug, m, c))\n",
    "\n",
    "df_ppg_improvement = pd.DataFrame(player_ppg_improvement, columns=[\"slug\", \"slope\", \"y-intercept\"])"
   ]
  },
  {
   "cell_type": "code",
   "execution_count": 15,
   "metadata": {},
   "outputs": [
    {
     "data": {
      "text/html": [
       "<div>\n",
       "<style scoped>\n",
       "    .dataframe tbody tr th:only-of-type {\n",
       "        vertical-align: middle;\n",
       "    }\n",
       "\n",
       "    .dataframe tbody tr th {\n",
       "        vertical-align: top;\n",
       "    }\n",
       "\n",
       "    .dataframe thead th {\n",
       "        text-align: right;\n",
       "    }\n",
       "</style>\n",
       "<table border=\"1\" class=\"dataframe\">\n",
       "  <thead>\n",
       "    <tr style=\"text-align: right;\">\n",
       "      <th></th>\n",
       "      <th>slug</th>\n",
       "      <th>slope</th>\n",
       "      <th>y-intercept</th>\n",
       "    </tr>\n",
       "  </thead>\n",
       "  <tbody>\n",
       "    <tr>\n",
       "      <th>469</th>\n",
       "      <td>bradlto01</td>\n",
       "      <td>7.5</td>\n",
       "      <td>-1.833333e+00</td>\n",
       "    </tr>\n",
       "    <tr>\n",
       "      <th>500</th>\n",
       "      <td>hicksis01</td>\n",
       "      <td>5.0</td>\n",
       "      <td>-1.000000e+00</td>\n",
       "    </tr>\n",
       "    <tr>\n",
       "      <th>511</th>\n",
       "      <td>zellety01</td>\n",
       "      <td>2.4</td>\n",
       "      <td>1.666667e+00</td>\n",
       "    </tr>\n",
       "    <tr>\n",
       "      <th>529</th>\n",
       "      <td>matenya01</td>\n",
       "      <td>2.0</td>\n",
       "      <td>-2.405856e-16</td>\n",
       "    </tr>\n",
       "    <tr>\n",
       "      <th>507</th>\n",
       "      <td>joneste01</td>\n",
       "      <td>2.0</td>\n",
       "      <td>-2.405856e-16</td>\n",
       "    </tr>\n",
       "    <tr>\n",
       "      <th>...</th>\n",
       "      <td>...</td>\n",
       "      <td>...</td>\n",
       "      <td>...</td>\n",
       "    </tr>\n",
       "    <tr>\n",
       "      <th>491</th>\n",
       "      <td>terryem01</td>\n",
       "      <td>-2.0</td>\n",
       "      <td>5.333333e+00</td>\n",
       "    </tr>\n",
       "    <tr>\n",
       "      <th>462</th>\n",
       "      <td>youngni01</td>\n",
       "      <td>-2.1</td>\n",
       "      <td>5.400000e+00</td>\n",
       "    </tr>\n",
       "    <tr>\n",
       "      <th>524</th>\n",
       "      <td>sampsja02</td>\n",
       "      <td>-2.2</td>\n",
       "      <td>2.330000e+01</td>\n",
       "    </tr>\n",
       "    <tr>\n",
       "      <th>497</th>\n",
       "      <td>delgaan01</td>\n",
       "      <td>-3.0</td>\n",
       "      <td>3.000000e+00</td>\n",
       "    </tr>\n",
       "    <tr>\n",
       "      <th>433</th>\n",
       "      <td>edwarvi01</td>\n",
       "      <td>-3.0</td>\n",
       "      <td>3.000000e+00</td>\n",
       "    </tr>\n",
       "  </tbody>\n",
       "</table>\n",
       "<p>530 rows × 3 columns</p>\n",
       "</div>"
      ],
      "text/plain": [
       "          slug  slope   y-intercept\n",
       "469  bradlto01    7.5 -1.833333e+00\n",
       "500  hicksis01    5.0 -1.000000e+00\n",
       "511  zellety01    2.4  1.666667e+00\n",
       "529  matenya01    2.0 -2.405856e-16\n",
       "507  joneste01    2.0 -2.405856e-16\n",
       "..         ...    ...           ...\n",
       "491  terryem01   -2.0  5.333333e+00\n",
       "462  youngni01   -2.1  5.400000e+00\n",
       "524  sampsja02   -2.2  2.330000e+01\n",
       "497  delgaan01   -3.0  3.000000e+00\n",
       "433  edwarvi01   -3.0  3.000000e+00\n",
       "\n",
       "[530 rows x 3 columns]"
      ]
     },
     "execution_count": 15,
     "metadata": {},
     "output_type": "execute_result"
    }
   ],
   "source": [
    "df_ppg_improvement.sort_values(by=\"slope\", ascending=False)"
   ]
  },
  {
   "cell_type": "markdown",
   "metadata": {},
   "source": [
    "This shows all players' improvements. Let's plot the top guy `bradlto01` and see what it looks like"
   ]
  },
  {
   "cell_type": "code",
   "execution_count": 16,
   "metadata": {},
   "outputs": [],
   "source": [
    "def plot_player_stat(player_slug, stat=\"points\"):\n",
    "    df_player = df[df[\"slug\"] == player_slug]\n",
    "    N = df_player.shape[0]\n",
    "    m, c = np.linalg.lstsq(np.dstack((np.arange(N), np.ones(N)))[0], df_player[stat].values)[0]\n",
    "    x = np.arange(N)\n",
    "    plt.scatter(range(N), df_player[stat].values,color='r',marker='d')\n",
    "    plt.plot(x, m*x+c)\n",
    "    plt.xlabel(\"Number of games\")\n",
    "    plt.ylabel(stat.replace(\"_\", \" \"))\n",
    "    plt.show()"
   ]
  },
  {
   "cell_type": "code",
   "execution_count": 17,
   "metadata": {},
   "outputs": [
    {
     "name": "stderr",
     "output_type": "stream",
     "text": [
      "/home/joeyism/Programming/python/fantasy-basketball/venv/lib/python3.6/site-packages/ipykernel_launcher.py:4: FutureWarning: `rcond` parameter will change to the default of machine precision times ``max(M, N)`` where M and N are the input matrix dimensions.\n",
      "To use the future default and silence this warning we advise to pass `rcond=None`, to keep using the old, explicitly pass `rcond=-1`.\n",
      "  after removing the cwd from sys.path.\n"
     ]
    },
    {
     "data": {
      "image/png": "[encoded data removed]",
      "text/plain": [
       "<Figure size 432x288 with 1 Axes>"
      ]
     },
     "metadata": {
      "needs_background": "light"
     },
     "output_type": "display_data"
    }
   ],
   "source": [
    "plot_player_stat(\"bradlto01\")"
   ]
  },
  {
   "cell_type": "code",
   "execution_count": 18,
   "metadata": {},
   "outputs": [],
   "source": [
    "def get_name_from_slug(slug):\n",
    "    print(df[df[\"slug\"] == slug][\"name\"].unique()[0])"
   ]
  },
  {
   "cell_type": "code",
   "execution_count": 19,
   "metadata": {},
   "outputs": [
    {
     "name": "stdout",
     "output_type": "stream",
     "text": [
      "Tony Bradley\n"
     ]
    }
   ],
   "source": [
    "get_name_from_slug(\"bradlto01\")"
   ]
  },
  {
   "cell_type": "markdown",
   "metadata": {},
   "source": [
    "Well, Tony Bradley only played 3 games. Let's filter for players who has played at least half the season (41 games)"
   ]
  },
  {
   "cell_type": "code",
   "execution_count": 20,
   "metadata": {},
   "outputs": [
    {
     "data": {
      "text/plain": [
       "slug\n",
       "adamsst01    85\n",
       "adebaba01    82\n",
       "aldrila01    88\n",
       "allenja01    85\n",
       "aminual01    97\n",
       "             ..\n",
       "youngth01    85\n",
       "youngtr01    81\n",
       "zelleco01    49\n",
       "zizican01    59\n",
       "zubaciv01    63\n",
       "Name: name, Length: 354, dtype: int64"
      ]
     },
     "execution_count": 20,
     "metadata": {},
     "output_type": "execute_result"
    }
   ],
   "source": [
    "df_player_game_count = df.groupby(\"slug\").count()[\"name\"]\n",
    "df_player_game_count[df_player_game_count >= 42]"
   ]
  },
  {
   "cell_type": "code",
   "execution_count": 21,
   "metadata": {},
   "outputs": [
    {
     "name": "stderr",
     "output_type": "stream",
     "text": [
      "Each player:   0%|          | 0/354 [00:00<?, ?it/s]/home/joeyism/Programming/python/fantasy-basketball/venv/lib/python3.6/site-packages/ipykernel_launcher.py:6: FutureWarning: `rcond` parameter will change to the default of machine precision times ``max(M, N)`` where M and N are the input matrix dimensions.\n",
      "To use the future default and silence this warning we advise to pass `rcond=None`, to keep using the old, explicitly pass `rcond=-1`.\n",
      "  \n",
      "Each player: 100%|██████████| 354/354 [00:01<00:00, 193.45it/s]\n"
     ]
    }
   ],
   "source": [
    "player_ppg_improvement = []\n",
    "for player_slug in tqdm(df_player_game_count[df_player_game_count >= 42].index.values, desc=\"Each player\"):\n",
    "    m, c = get_player_stat_fit(player_slug)\n",
    "    player_ppg_improvement.append((player_slug, m, c))\n",
    "\n",
    "df_ppg_improvement = pd.DataFrame(player_ppg_improvement, columns=[\"slug\", \"slope\", \"y-intercept\"])"
   ]
  },
  {
   "cell_type": "code",
   "execution_count": 22,
   "metadata": {},
   "outputs": [
    {
     "data": {
      "text/html": [
       "<div>\n",
       "<style scoped>\n",
       "    .dataframe tbody tr th:only-of-type {\n",
       "        vertical-align: middle;\n",
       "    }\n",
       "\n",
       "    .dataframe tbody tr th {\n",
       "        vertical-align: top;\n",
       "    }\n",
       "\n",
       "    .dataframe thead th {\n",
       "        text-align: right;\n",
       "    }\n",
       "</style>\n",
       "<table border=\"1\" class=\"dataframe\">\n",
       "  <thead>\n",
       "    <tr style=\"text-align: right;\">\n",
       "      <th></th>\n",
       "      <th>slug</th>\n",
       "      <th>slope</th>\n",
       "      <th>y-intercept</th>\n",
       "    </tr>\n",
       "  </thead>\n",
       "  <tbody>\n",
       "    <tr>\n",
       "      <th>92</th>\n",
       "      <td>dorsety01</td>\n",
       "      <td>0.241750</td>\n",
       "      <td>0.485544</td>\n",
       "    </tr>\n",
       "    <tr>\n",
       "      <th>186</th>\n",
       "      <td>kaminfr01</td>\n",
       "      <td>0.232308</td>\n",
       "      <td>3.273936</td>\n",
       "    </tr>\n",
       "    <tr>\n",
       "      <th>328</th>\n",
       "      <td>valanjo01</td>\n",
       "      <td>0.221735</td>\n",
       "      <td>10.249796</td>\n",
       "    </tr>\n",
       "    <tr>\n",
       "      <th>250</th>\n",
       "      <td>noahjo01</td>\n",
       "      <td>0.211328</td>\n",
       "      <td>2.763012</td>\n",
       "    </tr>\n",
       "    <tr>\n",
       "      <th>170</th>\n",
       "      <td>jacksfr01</td>\n",
       "      <td>0.210894</td>\n",
       "      <td>1.787943</td>\n",
       "    </tr>\n",
       "    <tr>\n",
       "      <th>...</th>\n",
       "      <td>...</td>\n",
       "      <td>...</td>\n",
       "      <td>...</td>\n",
       "    </tr>\n",
       "    <tr>\n",
       "      <th>145</th>\n",
       "      <td>hernaju01</td>\n",
       "      <td>-0.159203</td>\n",
       "      <td>11.370526</td>\n",
       "    </tr>\n",
       "    <tr>\n",
       "      <th>134</th>\n",
       "      <td>hardati02</td>\n",
       "      <td>-0.167832</td>\n",
       "      <td>23.432168</td>\n",
       "    </tr>\n",
       "    <tr>\n",
       "      <th>226</th>\n",
       "      <td>mcgruro01</td>\n",
       "      <td>-0.171986</td>\n",
       "      <td>13.210764</td>\n",
       "    </tr>\n",
       "    <tr>\n",
       "      <th>81</th>\n",
       "      <td>davisan02</td>\n",
       "      <td>-0.191456</td>\n",
       "      <td>31.193609</td>\n",
       "    </tr>\n",
       "    <tr>\n",
       "      <th>234</th>\n",
       "      <td>mirotni01</td>\n",
       "      <td>-0.219283</td>\n",
       "      <td>20.302186</td>\n",
       "    </tr>\n",
       "  </tbody>\n",
       "</table>\n",
       "<p>354 rows × 3 columns</p>\n",
       "</div>"
      ],
      "text/plain": [
       "          slug     slope  y-intercept\n",
       "92   dorsety01  0.241750     0.485544\n",
       "186  kaminfr01  0.232308     3.273936\n",
       "328  valanjo01  0.221735    10.249796\n",
       "250   noahjo01  0.211328     2.763012\n",
       "170  jacksfr01  0.210894     1.787943\n",
       "..         ...       ...          ...\n",
       "145  hernaju01 -0.159203    11.370526\n",
       "134  hardati02 -0.167832    23.432168\n",
       "226  mcgruro01 -0.171986    13.210764\n",
       "81   davisan02 -0.191456    31.193609\n",
       "234  mirotni01 -0.219283    20.302186\n",
       "\n",
       "[354 rows x 3 columns]"
      ]
     },
     "execution_count": 22,
     "metadata": {},
     "output_type": "execute_result"
    }
   ],
   "source": [
    "df_ppg_improvement.sort_values(by=\"slope\", ascending=False)"
   ]
  },
  {
   "cell_type": "code",
   "execution_count": 23,
   "metadata": {},
   "outputs": [
    {
     "name": "stderr",
     "output_type": "stream",
     "text": [
      "/home/joeyism/Programming/python/fantasy-basketball/venv/lib/python3.6/site-packages/ipykernel_launcher.py:4: FutureWarning: `rcond` parameter will change to the default of machine precision times ``max(M, N)`` where M and N are the input matrix dimensions.\n",
      "To use the future default and silence this warning we advise to pass `rcond=None`, to keep using the old, explicitly pass `rcond=-1`.\n",
      "  after removing the cwd from sys.path.\n"
     ]
    },
    {
     "data": {
      "image/png": "[encoded data removed]",
      "text/plain": [
       "<Figure size 432x288 with 1 Axes>"
      ]
     },
     "metadata": {
      "needs_background": "light"
     },
     "output_type": "display_data"
    },
    {
     "name": "stdout",
     "output_type": "stream",
     "text": [
      "Tyler Dorsey\n"
     ]
    }
   ],
   "source": [
    "plot_player_stat(\"dorsety01\")\n",
    "get_name_from_slug(\"dorsety01\")"
   ]
  },
  {
   "cell_type": "code",
   "execution_count": 24,
   "metadata": {},
   "outputs": [
    {
     "name": "stderr",
     "output_type": "stream",
     "text": [
      "/home/joeyism/Programming/python/fantasy-basketball/venv/lib/python3.6/site-packages/ipykernel_launcher.py:4: FutureWarning: `rcond` parameter will change to the default of machine precision times ``max(M, N)`` where M and N are the input matrix dimensions.\n",
      "To use the future default and silence this warning we advise to pass `rcond=None`, to keep using the old, explicitly pass `rcond=-1`.\n",
      "  after removing the cwd from sys.path.\n"
     ]
    },
    {
     "data": {
      "image/png": "[encoded data removed]",
      "text/plain": [
       "<Figure size 432x288 with 1 Axes>"
      ]
     },
     "metadata": {
      "needs_background": "light"
     },
     "output_type": "display_data"
    },
    {
     "name": "stdout",
     "output_type": "stream",
     "text": [
      "Jonas Valančiūnas\n"
     ]
    }
   ],
   "source": [
    "plot_player_stat(\"valanjo01\")\n",
    "get_name_from_slug(\"valanjo01\")"
   ]
  },
  {
   "cell_type": "markdown",
   "metadata": {},
   "source": [
    "The slope tells you how a player has improved, and the y-intercept tells you how goood they were to begin with. While Tyler Dorsey has improved more than JV has improved, JV started at a better rate while results in him ultimately having higher stats at the end of the season."
   ]
  },
  {
   "cell_type": "code",
   "execution_count": 25,
   "metadata": {},
   "outputs": [
    {
     "name": "stderr",
     "output_type": "stream",
     "text": [
      "/home/joeyism/Programming/python/fantasy-basketball/venv/lib/python3.6/site-packages/ipykernel_launcher.py:4: FutureWarning: `rcond` parameter will change to the default of machine precision times ``max(M, N)`` where M and N are the input matrix dimensions.\n",
      "To use the future default and silence this warning we advise to pass `rcond=None`, to keep using the old, explicitly pass `rcond=-1`.\n",
      "  after removing the cwd from sys.path.\n"
     ]
    },
    {
     "data": {
      "image/png": "[encoded data removed]",
      "text/plain": [
       "<Figure size 432x288 with 1 Axes>"
      ]
     },
     "metadata": {
      "needs_background": "light"
     },
     "output_type": "display_data"
    },
    {
     "name": "stdout",
     "output_type": "stream",
     "text": [
      "Nikola Mirotić\n"
     ]
    }
   ],
   "source": [
    "plot_player_stat(\"mirotni01\")\n",
    "get_name_from_slug(\"mirotni01\")"
   ]
  },
  {
   "cell_type": "markdown",
   "metadata": {},
   "source": [
    "Conversely, Mirotic started off pretty decent, and had a pretty steep dropoff by the end of the season"
   ]
  },
  {
   "cell_type": "markdown",
   "metadata": {},
   "source": [
    "Let's concat this dataframe with our average dataframe"
   ]
  },
  {
   "cell_type": "code",
   "execution_count": 26,
   "metadata": {},
   "outputs": [
    {
     "data": {
      "text/html": [
       "<div>\n",
       "<style scoped>\n",
       "    .dataframe tbody tr th:only-of-type {\n",
       "        vertical-align: middle;\n",
       "    }\n",
       "\n",
       "    .dataframe tbody tr th {\n",
       "        vertical-align: top;\n",
       "    }\n",
       "\n",
       "    .dataframe thead th {\n",
       "        text-align: right;\n",
       "    }\n",
       "</style>\n",
       "<table border=\"1\" class=\"dataframe\">\n",
       "  <thead>\n",
       "    <tr style=\"text-align: right;\">\n",
       "      <th></th>\n",
       "      <th>seconds_played</th>\n",
       "      <th>made_field_goals</th>\n",
       "      <th>attempted_field_goals</th>\n",
       "      <th>made_three_point_field_goals</th>\n",
       "      <th>attempted_three_point_field_goals</th>\n",
       "      <th>made_free_throws</th>\n",
       "      <th>attempted_free_throws</th>\n",
       "      <th>offensive_rebounds</th>\n",
       "      <th>defensive_rebounds</th>\n",
       "      <th>total_rebounds</th>\n",
       "      <th>...</th>\n",
       "      <th>steals</th>\n",
       "      <th>blocks</th>\n",
       "      <th>turnovers</th>\n",
       "      <th>personal_fouls</th>\n",
       "      <th>points</th>\n",
       "      <th>game_score</th>\n",
       "      <th>minutes_played</th>\n",
       "      <th>points_per_minute</th>\n",
       "      <th>slope</th>\n",
       "      <th>y-intercept</th>\n",
       "    </tr>\n",
       "  </thead>\n",
       "  <tbody>\n",
       "    <tr>\n",
       "      <th>adamsst01</th>\n",
       "      <td>1996.647059</td>\n",
       "      <td>5.988235</td>\n",
       "      <td>10.011765</td>\n",
       "      <td>0.000000</td>\n",
       "      <td>0.035294</td>\n",
       "      <td>1.752941</td>\n",
       "      <td>3.529412</td>\n",
       "      <td>4.741176</td>\n",
       "      <td>4.623529</td>\n",
       "      <td>9.364706</td>\n",
       "      <td>...</td>\n",
       "      <td>1.435294</td>\n",
       "      <td>0.952941</td>\n",
       "      <td>1.694118</td>\n",
       "      <td>2.552941</td>\n",
       "      <td>13.729412</td>\n",
       "      <td>13.577647</td>\n",
       "      <td>33.277451</td>\n",
       "      <td>0.412574</td>\n",
       "      <td>-0.068634</td>\n",
       "      <td>16.612038</td>\n",
       "    </tr>\n",
       "    <tr>\n",
       "      <th>adebaba01</th>\n",
       "      <td>1399.463415</td>\n",
       "      <td>3.414634</td>\n",
       "      <td>5.926829</td>\n",
       "      <td>0.036585</td>\n",
       "      <td>0.182927</td>\n",
       "      <td>2.024390</td>\n",
       "      <td>2.756098</td>\n",
       "      <td>2.012195</td>\n",
       "      <td>5.268293</td>\n",
       "      <td>7.280488</td>\n",
       "      <td>...</td>\n",
       "      <td>0.865854</td>\n",
       "      <td>0.792683</td>\n",
       "      <td>1.475610</td>\n",
       "      <td>2.475610</td>\n",
       "      <td>8.890244</td>\n",
       "      <td>9.329268</td>\n",
       "      <td>23.324390</td>\n",
       "      <td>0.381157</td>\n",
       "      <td>0.056998</td>\n",
       "      <td>6.581840</td>\n",
       "    </tr>\n",
       "    <tr>\n",
       "      <th>aldrila01</th>\n",
       "      <td>1998.227273</td>\n",
       "      <td>8.397727</td>\n",
       "      <td>16.363636</td>\n",
       "      <td>0.147727</td>\n",
       "      <td>0.602273</td>\n",
       "      <td>4.272727</td>\n",
       "      <td>5.056818</td>\n",
       "      <td>3.068182</td>\n",
       "      <td>6.147727</td>\n",
       "      <td>9.215909</td>\n",
       "      <td>...</td>\n",
       "      <td>0.545455</td>\n",
       "      <td>1.295455</td>\n",
       "      <td>1.715909</td>\n",
       "      <td>2.272727</td>\n",
       "      <td>21.215909</td>\n",
       "      <td>17.320455</td>\n",
       "      <td>33.303788</td>\n",
       "      <td>0.637042</td>\n",
       "      <td>0.044724</td>\n",
       "      <td>19.270429</td>\n",
       "    </tr>\n",
       "    <tr>\n",
       "      <th>allenja01</th>\n",
       "      <td>1557.341176</td>\n",
       "      <td>4.164706</td>\n",
       "      <td>7.058824</td>\n",
       "      <td>0.070588</td>\n",
       "      <td>0.529412</td>\n",
       "      <td>2.517647</td>\n",
       "      <td>3.505882</td>\n",
       "      <td>2.423529</td>\n",
       "      <td>5.882353</td>\n",
       "      <td>8.305882</td>\n",
       "      <td>...</td>\n",
       "      <td>0.541176</td>\n",
       "      <td>1.447059</td>\n",
       "      <td>1.305882</td>\n",
       "      <td>2.317647</td>\n",
       "      <td>10.917647</td>\n",
       "      <td>11.025882</td>\n",
       "      <td>25.955686</td>\n",
       "      <td>0.420626</td>\n",
       "      <td>-0.029939</td>\n",
       "      <td>12.175103</td>\n",
       "    </tr>\n",
       "    <tr>\n",
       "      <th>aminual01</th>\n",
       "      <td>1664.628866</td>\n",
       "      <td>3.041237</td>\n",
       "      <td>7.237113</td>\n",
       "      <td>1.144330</td>\n",
       "      <td>3.412371</td>\n",
       "      <td>1.824742</td>\n",
       "      <td>2.154639</td>\n",
       "      <td>1.453608</td>\n",
       "      <td>5.865979</td>\n",
       "      <td>7.319588</td>\n",
       "      <td>...</td>\n",
       "      <td>0.793814</td>\n",
       "      <td>0.443299</td>\n",
       "      <td>0.907216</td>\n",
       "      <td>1.824742</td>\n",
       "      <td>9.051546</td>\n",
       "      <td>8.216495</td>\n",
       "      <td>27.743814</td>\n",
       "      <td>0.326255</td>\n",
       "      <td>-0.015872</td>\n",
       "      <td>9.813381</td>\n",
       "    </tr>\n",
       "  </tbody>\n",
       "</table>\n",
       "<p>5 rows × 21 columns</p>\n",
       "</div>"
      ],
      "text/plain": [
       "           seconds_played  made_field_goals  attempted_field_goals  \\\n",
       "adamsst01     1996.647059          5.988235              10.011765   \n",
       "adebaba01     1399.463415          3.414634               5.926829   \n",
       "aldrila01     1998.227273          8.397727              16.363636   \n",
       "allenja01     1557.341176          4.164706               7.058824   \n",
       "aminual01     1664.628866          3.041237               7.237113   \n",
       "\n",
       "           made_three_point_field_goals  attempted_three_point_field_goals  \\\n",
       "adamsst01                      0.000000                           0.035294   \n",
       "adebaba01                      0.036585                           0.182927   \n",
       "aldrila01                      0.147727                           0.602273   \n",
       "allenja01                      0.070588                           0.529412   \n",
       "aminual01                      1.144330                           3.412371   \n",
       "\n",
       "           made_free_throws  attempted_free_throws  offensive_rebounds  \\\n",
       "adamsst01          1.752941               3.529412            4.741176   \n",
       "adebaba01          2.024390               2.756098            2.012195   \n",
       "aldrila01          4.272727               5.056818            3.068182   \n",
       "allenja01          2.517647               3.505882            2.423529   \n",
       "aminual01          1.824742               2.154639            1.453608   \n",
       "\n",
       "           defensive_rebounds  total_rebounds  ...    steals    blocks  \\\n",
       "adamsst01            4.623529        9.364706  ...  1.435294  0.952941   \n",
       "adebaba01            5.268293        7.280488  ...  0.865854  0.792683   \n",
       "aldrila01            6.147727        9.215909  ...  0.545455  1.295455   \n",
       "allenja01            5.882353        8.305882  ...  0.541176  1.447059   \n",
       "aminual01            5.865979        7.319588  ...  0.793814  0.443299   \n",
       "\n",
       "           turnovers  personal_fouls     points  game_score  minutes_played  \\\n",
       "adamsst01   1.694118        2.552941  13.729412   13.577647       33.277451   \n",
       "adebaba01   1.475610        2.475610   8.890244    9.329268       23.324390   \n",
       "aldrila01   1.715909        2.272727  21.215909   17.320455       33.303788   \n",
       "allenja01   1.305882        2.317647  10.917647   11.025882       25.955686   \n",
       "aminual01   0.907216        1.824742   9.051546    8.216495       27.743814   \n",
       "\n",
       "           points_per_minute     slope  y-intercept  \n",
       "adamsst01           0.412574 -0.068634    16.612038  \n",
       "adebaba01           0.381157  0.056998     6.581840  \n",
       "aldrila01           0.637042  0.044724    19.270429  \n",
       "allenja01           0.420626 -0.029939    12.175103  \n",
       "aminual01           0.326255 -0.015872     9.813381  \n",
       "\n",
       "[5 rows x 21 columns]"
      ]
     },
     "execution_count": 26,
     "metadata": {},
     "output_type": "execute_result"
    }
   ],
   "source": [
    "df_avg_with_improvement = pd.concat((df_avg, df_ppg_improvement.set_index(\"slug\")), axis=1)\n",
    "df_avg_with_improvement = df_avg_with_improvement.dropna()\n",
    "df_avg_with_improvement.head()"
   ]
  },
  {
   "cell_type": "markdown",
   "metadata": {},
   "source": [
    "Let's see players who's PPG is similar to JV's, and how they performed through the season"
   ]
  },
  {
   "cell_type": "code",
   "execution_count": 27,
   "metadata": {},
   "outputs": [],
   "source": [
    "df_avg_with_improvement = df_avg_with_improvement.sort_values(by=[\"points\", \"slope\"], ascending=False).reset_index()\n",
    "df_avg_with_improvement = df_avg_with_improvement.rename(columns={\"index\": \"slug\"})"
   ]
  },
  {
   "cell_type": "code",
   "execution_count": 28,
   "metadata": {},
   "outputs": [
    {
     "data": {
      "text/html": [
       "<div>\n",
       "<style scoped>\n",
       "    .dataframe tbody tr th:only-of-type {\n",
       "        vertical-align: middle;\n",
       "    }\n",
       "\n",
       "    .dataframe tbody tr th {\n",
       "        vertical-align: top;\n",
       "    }\n",
       "\n",
       "    .dataframe thead th {\n",
       "        text-align: right;\n",
       "    }\n",
       "</style>\n",
       "<table border=\"1\" class=\"dataframe\">\n",
       "  <thead>\n",
       "    <tr style=\"text-align: right;\">\n",
       "      <th></th>\n",
       "      <th>slug</th>\n",
       "      <th>points</th>\n",
       "      <th>slope</th>\n",
       "      <th>y-intercept</th>\n",
       "    </tr>\n",
       "  </thead>\n",
       "  <tbody>\n",
       "    <tr>\n",
       "      <th>61</th>\n",
       "      <td>paulch01</td>\n",
       "      <td>15.840580</td>\n",
       "      <td>-0.000585</td>\n",
       "      <td>15.860455</td>\n",
       "    </tr>\n",
       "    <tr>\n",
       "      <th>62</th>\n",
       "      <td>tatumja01</td>\n",
       "      <td>15.681818</td>\n",
       "      <td>-0.030467</td>\n",
       "      <td>17.007150</td>\n",
       "    </tr>\n",
       "    <tr>\n",
       "      <th>63</th>\n",
       "      <td>capelca01</td>\n",
       "      <td>15.653846</td>\n",
       "      <td>-0.080818</td>\n",
       "      <td>18.765336</td>\n",
       "    </tr>\n",
       "    <tr>\n",
       "      <th>64</th>\n",
       "      <td>nurkiju01</td>\n",
       "      <td>15.625000</td>\n",
       "      <td>0.043813</td>\n",
       "      <td>14.069635</td>\n",
       "    </tr>\n",
       "    <tr>\n",
       "      <th>65</th>\n",
       "      <td>goberru01</td>\n",
       "      <td>15.581395</td>\n",
       "      <td>0.017435</td>\n",
       "      <td>14.840417</td>\n",
       "    </tr>\n",
       "    <tr>\n",
       "      <th>66</th>\n",
       "      <td>valanjo01</td>\n",
       "      <td>15.571429</td>\n",
       "      <td>0.221735</td>\n",
       "      <td>10.249796</td>\n",
       "    </tr>\n",
       "    <tr>\n",
       "      <th>67</th>\n",
       "      <td>bledser01</td>\n",
       "      <td>15.548387</td>\n",
       "      <td>-0.011280</td>\n",
       "      <td>16.067261</td>\n",
       "    </tr>\n",
       "    <tr>\n",
       "      <th>68</th>\n",
       "      <td>jacksre01</td>\n",
       "      <td>15.476744</td>\n",
       "      <td>0.020105</td>\n",
       "      <td>14.622294</td>\n",
       "    </tr>\n",
       "    <tr>\n",
       "      <th>69</th>\n",
       "      <td>schrode01</td>\n",
       "      <td>15.392857</td>\n",
       "      <td>-0.015541</td>\n",
       "      <td>16.037815</td>\n",
       "    </tr>\n",
       "    <tr>\n",
       "      <th>70</th>\n",
       "      <td>brogdma01</td>\n",
       "      <td>15.380282</td>\n",
       "      <td>-0.008115</td>\n",
       "      <td>15.664319</td>\n",
       "    </tr>\n",
       "  </tbody>\n",
       "</table>\n",
       "</div>"
      ],
      "text/plain": [
       "         slug     points     slope  y-intercept\n",
       "61   paulch01  15.840580 -0.000585    15.860455\n",
       "62  tatumja01  15.681818 -0.030467    17.007150\n",
       "63  capelca01  15.653846 -0.080818    18.765336\n",
       "64  nurkiju01  15.625000  0.043813    14.069635\n",
       "65  goberru01  15.581395  0.017435    14.840417\n",
       "66  valanjo01  15.571429  0.221735    10.249796\n",
       "67  bledser01  15.548387 -0.011280    16.067261\n",
       "68  jacksre01  15.476744  0.020105    14.622294\n",
       "69  schrode01  15.392857 -0.015541    16.037815\n",
       "70  brogdma01  15.380282 -0.008115    15.664319"
      ]
     },
     "execution_count": 28,
     "metadata": {},
     "output_type": "execute_result"
    }
   ],
   "source": [
    "jv_index = df_avg_with_improvement[df_avg_with_improvement[\"slug\"] == \"valanjo01\"].index[0]\n",
    "df_avg_with_improvement[jv_index-5:jv_index+5][[\"slug\", \"points\", \"slope\", \"y-intercept\"]]"
   ]
  },
  {
   "cell_type": "markdown",
   "metadata": {},
   "source": [
    "Interestingly, Capela ranks higher than JV in ppg, but he has a somewhat significant negative slope. Let's look at how Capela played through this season"
   ]
  },
  {
   "cell_type": "code",
   "execution_count": 29,
   "metadata": {},
   "outputs": [
    {
     "name": "stderr",
     "output_type": "stream",
     "text": [
      "/home/joeyism/Programming/python/fantasy-basketball/venv/lib/python3.6/site-packages/ipykernel_launcher.py:4: FutureWarning: `rcond` parameter will change to the default of machine precision times ``max(M, N)`` where M and N are the input matrix dimensions.\n",
      "To use the future default and silence this warning we advise to pass `rcond=None`, to keep using the old, explicitly pass `rcond=-1`.\n",
      "  after removing the cwd from sys.path.\n"
     ]
    },
    {
     "data": {
      "image/png": "[encoded data removed]",
      "text/plain": [
       "<Figure size 432x288 with 1 Axes>"
      ]
     },
     "metadata": {
      "needs_background": "light"
     },
     "output_type": "display_data"
    },
    {
     "name": "stdout",
     "output_type": "stream",
     "text": [
      "Clint Capela\n"
     ]
    }
   ],
   "source": [
    "plot_player_stat(\"capelca01\")\n",
    "get_name_from_slug(\"capelca01\")"
   ]
  },
  {
   "cell_type": "markdown",
   "metadata": {},
   "source": [
    "While he started the season off strong, his points per game decreased through the season while JV's stats went up, even though Capela's PPG average is higher than JV's. This type of improvement/decrease is important to note for drafting the following season"
   ]
  },
  {
   "cell_type": "markdown",
   "metadata": {},
   "source": [
    "## Rebounds"
   ]
  },
  {
   "cell_type": "markdown",
   "metadata": {},
   "source": [
    "Let's quickly look at rebounds"
   ]
  },
  {
   "cell_type": "code",
   "execution_count": 30,
   "metadata": {},
   "outputs": [
    {
     "name": "stderr",
     "output_type": "stream",
     "text": [
      "/home/joeyism/Programming/python/fantasy-basketball/venv/lib/python3.6/site-packages/ipykernel_launcher.py:4: FutureWarning: `rcond` parameter will change to the default of machine precision times ``max(M, N)`` where M and N are the input matrix dimensions.\n",
      "To use the future default and silence this warning we advise to pass `rcond=None`, to keep using the old, explicitly pass `rcond=-1`.\n",
      "  after removing the cwd from sys.path.\n"
     ]
    },
    {
     "data": {
      "image/png": "[encoded data removed]",
      "text/plain": [
       "<Figure size 432x288 with 1 Axes>"
      ]
     },
     "metadata": {
      "needs_background": "light"
     },
     "output_type": "display_data"
    },
    {
     "name": "stdout",
     "output_type": "stream",
     "text": [
      "Jonas Valančiūnas\n"
     ]
    }
   ],
   "source": [
    "plot_player_stat(\"valanjo01\", stat=\"total_rebounds\")\n",
    "get_name_from_slug(\"valanjo01\")"
   ]
  },
  {
   "cell_type": "code",
   "execution_count": 31,
   "metadata": {},
   "outputs": [
    {
     "name": "stderr",
     "output_type": "stream",
     "text": [
      "/home/joeyism/Programming/python/fantasy-basketball/venv/lib/python3.6/site-packages/ipykernel_launcher.py:4: FutureWarning: `rcond` parameter will change to the default of machine precision times ``max(M, N)`` where M and N are the input matrix dimensions.\n",
      "To use the future default and silence this warning we advise to pass `rcond=None`, to keep using the old, explicitly pass `rcond=-1`.\n",
      "  after removing the cwd from sys.path.\n"
     ]
    },
    {
     "data": {
      "image/png": "[encoded data removed]",
      "text/plain": [
       "<Figure size 432x288 with 1 Axes>"
      ]
     },
     "metadata": {
      "needs_background": "light"
     },
     "output_type": "display_data"
    },
    {
     "name": "stdout",
     "output_type": "stream",
     "text": [
      "Clint Capela\n"
     ]
    }
   ],
   "source": [
    "plot_player_stat(\"capelca01\", stat=\"total_rebounds\")\n",
    "get_name_from_slug(\"capelca01\")"
   ]
  },
  {
   "cell_type": "markdown",
   "metadata": {},
   "source": [
    "JV improved on rebounds as well. Capela is surprisingly really consistent throughout the year with his rebounds, having maybe only a slight dip"
   ]
  },
  {
   "cell_type": "markdown",
   "metadata": {},
   "source": [
    "## Fantasy Points"
   ]
  },
  {
   "cell_type": "markdown",
   "metadata": {},
   "source": [
    "Let's calculate the fantasy score for each game for each player"
   ]
  },
  {
   "cell_type": "code",
   "execution_count": 32,
   "metadata": {},
   "outputs": [],
   "source": [
    "df[\"fantasy_points\"] = df.apply(lambda row: int(ScoringSystem.score_head_to_head_points(row)), axis=1)"
   ]
  },
  {
   "cell_type": "code",
   "execution_count": 33,
   "metadata": {},
   "outputs": [
    {
     "data": {
      "text/plain": [
       "20.869966262292728"
      ]
     },
     "execution_count": 33,
     "metadata": {},
     "output_type": "execute_result"
    }
   ],
   "source": [
    "mean_fantasy_points = df[\"fantasy_points\"].mean()\n",
    "mean_fantasy_points"
   ]
  },
  {
   "cell_type": "code",
   "execution_count": 34,
   "metadata": {},
   "outputs": [
    {
     "data": {
      "text/html": [
       "<div>\n",
       "<style scoped>\n",
       "    .dataframe tbody tr th:only-of-type {\n",
       "        vertical-align: middle;\n",
       "    }\n",
       "\n",
       "    .dataframe tbody tr th {\n",
       "        vertical-align: top;\n",
       "    }\n",
       "\n",
       "    .dataframe thead th {\n",
       "        text-align: right;\n",
       "    }\n",
       "</style>\n",
       "<table border=\"1\" class=\"dataframe\">\n",
       "  <thead>\n",
       "    <tr style=\"text-align: right;\">\n",
       "      <th></th>\n",
       "      <th>slug</th>\n",
       "      <th>name</th>\n",
       "      <th>team</th>\n",
       "      <th>location</th>\n",
       "      <th>opponent</th>\n",
       "      <th>outcome</th>\n",
       "      <th>seconds_played</th>\n",
       "      <th>made_field_goals</th>\n",
       "      <th>attempted_field_goals</th>\n",
       "      <th>made_three_point_field_goals</th>\n",
       "      <th>...</th>\n",
       "      <th>assists</th>\n",
       "      <th>steals</th>\n",
       "      <th>blocks</th>\n",
       "      <th>turnovers</th>\n",
       "      <th>personal_fouls</th>\n",
       "      <th>points</th>\n",
       "      <th>game_score</th>\n",
       "      <th>date</th>\n",
       "      <th>minutes_played</th>\n",
       "      <th>fantasy_points</th>\n",
       "    </tr>\n",
       "  </thead>\n",
       "  <tbody>\n",
       "    <tr>\n",
       "      <th>15064</th>\n",
       "      <td>hardeja01</td>\n",
       "      <td>James Harden</td>\n",
       "      <td>Team.HOUSTON_ROCKETS</td>\n",
       "      <td>Location.AWAY</td>\n",
       "      <td>Team.NEW_YORK_KNICKS</td>\n",
       "      <td>Outcome.WIN</td>\n",
       "      <td>2400</td>\n",
       "      <td>17</td>\n",
       "      <td>38</td>\n",
       "      <td>5</td>\n",
       "      <td>...</td>\n",
       "      <td>4</td>\n",
       "      <td>5</td>\n",
       "      <td>0</td>\n",
       "      <td>5</td>\n",
       "      <td>3</td>\n",
       "      <td>61</td>\n",
       "      <td>48.5</td>\n",
       "      <td>2019-01-23</td>\n",
       "      <td>40.000000</td>\n",
       "      <td>95</td>\n",
       "    </tr>\n",
       "    <tr>\n",
       "      <th>19598</th>\n",
       "      <td>hardeja01</td>\n",
       "      <td>James Harden</td>\n",
       "      <td>Team.HOUSTON_ROCKETS</td>\n",
       "      <td>Location.HOME</td>\n",
       "      <td>Team.MIAMI_HEAT</td>\n",
       "      <td>Outcome.WIN</td>\n",
       "      <td>2632</td>\n",
       "      <td>16</td>\n",
       "      <td>32</td>\n",
       "      <td>8</td>\n",
       "      <td>...</td>\n",
       "      <td>10</td>\n",
       "      <td>4</td>\n",
       "      <td>1</td>\n",
       "      <td>4</td>\n",
       "      <td>1</td>\n",
       "      <td>58</td>\n",
       "      <td>52.2</td>\n",
       "      <td>2019-02-28</td>\n",
       "      <td>43.866667</td>\n",
       "      <td>92</td>\n",
       "    </tr>\n",
       "    <tr>\n",
       "      <th>11410</th>\n",
       "      <td>townska01</td>\n",
       "      <td>Karl-Anthony Towns</td>\n",
       "      <td>Team.MINNESOTA_TIMBERWOLVES</td>\n",
       "      <td>Location.AWAY</td>\n",
       "      <td>Team.MIAMI_HEAT</td>\n",
       "      <td>Outcome.WIN</td>\n",
       "      <td>2224</td>\n",
       "      <td>12</td>\n",
       "      <td>24</td>\n",
       "      <td>3</td>\n",
       "      <td>...</td>\n",
       "      <td>7</td>\n",
       "      <td>3</td>\n",
       "      <td>6</td>\n",
       "      <td>3</td>\n",
       "      <td>6</td>\n",
       "      <td>34</td>\n",
       "      <td>37.3</td>\n",
       "      <td>2018-12-30</td>\n",
       "      <td>37.066667</td>\n",
       "      <td>90</td>\n",
       "    </tr>\n",
       "    <tr>\n",
       "      <th>22122</th>\n",
       "      <td>antetgi01</td>\n",
       "      <td>Giannis Antetokounmpo</td>\n",
       "      <td>Team.MILWAUKEE_BUCKS</td>\n",
       "      <td>Location.HOME</td>\n",
       "      <td>Team.PHILADELPHIA_76ERS</td>\n",
       "      <td>Outcome.LOSS</td>\n",
       "      <td>2172</td>\n",
       "      <td>15</td>\n",
       "      <td>26</td>\n",
       "      <td>3</td>\n",
       "      <td>...</td>\n",
       "      <td>7</td>\n",
       "      <td>2</td>\n",
       "      <td>1</td>\n",
       "      <td>1</td>\n",
       "      <td>1</td>\n",
       "      <td>52</td>\n",
       "      <td>50.4</td>\n",
       "      <td>2019-03-17</td>\n",
       "      <td>36.200000</td>\n",
       "      <td>89</td>\n",
       "    </tr>\n",
       "    <tr>\n",
       "      <th>21790</th>\n",
       "      <td>hardeja01</td>\n",
       "      <td>James Harden</td>\n",
       "      <td>Team.HOUSTON_ROCKETS</td>\n",
       "      <td>Location.HOME</td>\n",
       "      <td>Team.PHOENIX_SUNS</td>\n",
       "      <td>Outcome.WIN</td>\n",
       "      <td>2502</td>\n",
       "      <td>12</td>\n",
       "      <td>25</td>\n",
       "      <td>3</td>\n",
       "      <td>...</td>\n",
       "      <td>11</td>\n",
       "      <td>6</td>\n",
       "      <td>3</td>\n",
       "      <td>6</td>\n",
       "      <td>3</td>\n",
       "      <td>41</td>\n",
       "      <td>38.4</td>\n",
       "      <td>2019-03-15</td>\n",
       "      <td>41.700000</td>\n",
       "      <td>89</td>\n",
       "    </tr>\n",
       "    <tr>\n",
       "      <th>16500</th>\n",
       "      <td>hardeja01</td>\n",
       "      <td>James Harden</td>\n",
       "      <td>Team.HOUSTON_ROCKETS</td>\n",
       "      <td>Location.AWAY</td>\n",
       "      <td>Team.UTAH_JAZZ</td>\n",
       "      <td>Outcome.WIN</td>\n",
       "      <td>2382</td>\n",
       "      <td>12</td>\n",
       "      <td>22</td>\n",
       "      <td>4</td>\n",
       "      <td>...</td>\n",
       "      <td>5</td>\n",
       "      <td>6</td>\n",
       "      <td>4</td>\n",
       "      <td>5</td>\n",
       "      <td>4</td>\n",
       "      <td>43</td>\n",
       "      <td>41.7</td>\n",
       "      <td>2019-02-02</td>\n",
       "      <td>39.700000</td>\n",
       "      <td>89</td>\n",
       "    </tr>\n",
       "    <tr>\n",
       "      <th>11686</th>\n",
       "      <td>nurkiju01</td>\n",
       "      <td>Jusuf Nurkić</td>\n",
       "      <td>Team.PORTLAND_TRAIL_BLAZERS</td>\n",
       "      <td>Location.AWAY</td>\n",
       "      <td>Team.SACRAMENTO_KINGS</td>\n",
       "      <td>Outcome.WIN</td>\n",
       "      <td>2253</td>\n",
       "      <td>5</td>\n",
       "      <td>10</td>\n",
       "      <td>0</td>\n",
       "      <td>...</td>\n",
       "      <td>7</td>\n",
       "      <td>5</td>\n",
       "      <td>5</td>\n",
       "      <td>4</td>\n",
       "      <td>4</td>\n",
       "      <td>24</td>\n",
       "      <td>34.9</td>\n",
       "      <td>2019-01-01</td>\n",
       "      <td>37.550000</td>\n",
       "      <td>88</td>\n",
       "    </tr>\n",
       "    <tr>\n",
       "      <th>13594</th>\n",
       "      <td>bealbr01</td>\n",
       "      <td>Bradley Beal</td>\n",
       "      <td>Team.WASHINGTON_WIZARDS</td>\n",
       "      <td>Location.HOME</td>\n",
       "      <td>Team.TORONTO_RAPTORS</td>\n",
       "      <td>Outcome.LOSS</td>\n",
       "      <td>3276</td>\n",
       "      <td>17</td>\n",
       "      <td>36</td>\n",
       "      <td>6</td>\n",
       "      <td>...</td>\n",
       "      <td>15</td>\n",
       "      <td>3</td>\n",
       "      <td>2</td>\n",
       "      <td>4</td>\n",
       "      <td>3</td>\n",
       "      <td>43</td>\n",
       "      <td>36.5</td>\n",
       "      <td>2019-01-13</td>\n",
       "      <td>54.600000</td>\n",
       "      <td>88</td>\n",
       "    </tr>\n",
       "    <tr>\n",
       "      <th>22605</th>\n",
       "      <td>hardeja01</td>\n",
       "      <td>James Harden</td>\n",
       "      <td>Team.HOUSTON_ROCKETS</td>\n",
       "      <td>Location.AWAY</td>\n",
       "      <td>Team.MEMPHIS_GRIZZLIES</td>\n",
       "      <td>Outcome.LOSS</td>\n",
       "      <td>2737</td>\n",
       "      <td>18</td>\n",
       "      <td>39</td>\n",
       "      <td>9</td>\n",
       "      <td>...</td>\n",
       "      <td>8</td>\n",
       "      <td>2</td>\n",
       "      <td>2</td>\n",
       "      <td>3</td>\n",
       "      <td>3</td>\n",
       "      <td>57</td>\n",
       "      <td>44.2</td>\n",
       "      <td>2019-03-20</td>\n",
       "      <td>45.616667</td>\n",
       "      <td>86</td>\n",
       "    </tr>\n",
       "    <tr>\n",
       "      <th>11011</th>\n",
       "      <td>davisan02</td>\n",
       "      <td>Anthony Davis</td>\n",
       "      <td>Team.NEW_ORLEANS_PELICANS</td>\n",
       "      <td>Location.HOME</td>\n",
       "      <td>Team.DALLAS_MAVERICKS</td>\n",
       "      <td>Outcome.WIN</td>\n",
       "      <td>2578</td>\n",
       "      <td>20</td>\n",
       "      <td>32</td>\n",
       "      <td>0</td>\n",
       "      <td>...</td>\n",
       "      <td>4</td>\n",
       "      <td>2</td>\n",
       "      <td>2</td>\n",
       "      <td>1</td>\n",
       "      <td>3</td>\n",
       "      <td>48</td>\n",
       "      <td>44.3</td>\n",
       "      <td>2018-12-28</td>\n",
       "      <td>42.966667</td>\n",
       "      <td>85</td>\n",
       "    </tr>\n",
       "  </tbody>\n",
       "</table>\n",
       "<p>10 rows × 26 columns</p>\n",
       "</div>"
      ],
      "text/plain": [
       "            slug                   name                         team  \\\n",
       "15064  hardeja01           James Harden         Team.HOUSTON_ROCKETS   \n",
       "19598  hardeja01           James Harden         Team.HOUSTON_ROCKETS   \n",
       "11410  townska01     Karl-Anthony Towns  Team.MINNESOTA_TIMBERWOLVES   \n",
       "22122  antetgi01  Giannis Antetokounmpo         Team.MILWAUKEE_BUCKS   \n",
       "21790  hardeja01           James Harden         Team.HOUSTON_ROCKETS   \n",
       "16500  hardeja01           James Harden         Team.HOUSTON_ROCKETS   \n",
       "11686  nurkiju01           Jusuf Nurkić  Team.PORTLAND_TRAIL_BLAZERS   \n",
       "13594   bealbr01           Bradley Beal      Team.WASHINGTON_WIZARDS   \n",
       "22605  hardeja01           James Harden         Team.HOUSTON_ROCKETS   \n",
       "11011  davisan02          Anthony Davis    Team.NEW_ORLEANS_PELICANS   \n",
       "\n",
       "            location                 opponent       outcome  seconds_played  \\\n",
       "15064  Location.AWAY     Team.NEW_YORK_KNICKS   Outcome.WIN            2400   \n",
       "19598  Location.HOME          Team.MIAMI_HEAT   Outcome.WIN            2632   \n",
       "11410  Location.AWAY          Team.MIAMI_HEAT   Outcome.WIN            2224   \n",
       "22122  Location.HOME  Team.PHILADELPHIA_76ERS  Outcome.LOSS            2172   \n",
       "21790  Location.HOME        Team.PHOENIX_SUNS   Outcome.WIN            2502   \n",
       "16500  Location.AWAY           Team.UTAH_JAZZ   Outcome.WIN            2382   \n",
       "11686  Location.AWAY    Team.SACRAMENTO_KINGS   Outcome.WIN            2253   \n",
       "13594  Location.HOME     Team.TORONTO_RAPTORS  Outcome.LOSS            3276   \n",
       "22605  Location.AWAY   Team.MEMPHIS_GRIZZLIES  Outcome.LOSS            2737   \n",
       "11011  Location.HOME    Team.DALLAS_MAVERICKS   Outcome.WIN            2578   \n",
       "\n",
       "       made_field_goals  attempted_field_goals  made_three_point_field_goals  \\\n",
       "15064                17                     38                             5   \n",
       "19598                16                     32                             8   \n",
       "11410                12                     24                             3   \n",
       "22122                15                     26                             3   \n",
       "21790                12                     25                             3   \n",
       "16500                12                     22                             4   \n",
       "11686                 5                     10                             0   \n",
       "13594                17                     36                             6   \n",
       "22605                18                     39                             9   \n",
       "11011                20                     32                             0   \n",
       "\n",
       "       ...  assists  steals  blocks  turnovers  personal_fouls  points  \\\n",
       "15064  ...        4       5       0          5               3      61   \n",
       "19598  ...       10       4       1          4               1      58   \n",
       "11410  ...        7       3       6          3               6      34   \n",
       "22122  ...        7       2       1          1               1      52   \n",
       "21790  ...       11       6       3          6               3      41   \n",
       "16500  ...        5       6       4          5               4      43   \n",
       "11686  ...        7       5       5          4               4      24   \n",
       "13594  ...       15       3       2          4               3      43   \n",
       "22605  ...        8       2       2          3               3      57   \n",
       "11011  ...        4       2       2          1               3      48   \n",
       "\n",
       "       game_score        date  minutes_played  fantasy_points  \n",
       "15064        48.5  2019-01-23       40.000000              95  \n",
       "19598        52.2  2019-02-28       43.866667              92  \n",
       "11410        37.3  2018-12-30       37.066667              90  \n",
       "22122        50.4  2019-03-17       36.200000              89  \n",
       "21790        38.4  2019-03-15       41.700000              89  \n",
       "16500        41.7  2019-02-02       39.700000              89  \n",
       "11686        34.9  2019-01-01       37.550000              88  \n",
       "13594        36.5  2019-01-13       54.600000              88  \n",
       "22605        44.2  2019-03-20       45.616667              86  \n",
       "11011        44.3  2018-12-28       42.966667              85  \n",
       "\n",
       "[10 rows x 26 columns]"
      ]
     },
     "execution_count": 34,
     "metadata": {},
     "output_type": "execute_result"
    }
   ],
   "source": [
    "df.sort_values(by=\"fantasy_points\", ascending=False).head(10)"
   ]
  },
  {
   "cell_type": "markdown",
   "metadata": {},
   "source": [
    "Out of the top 10 games, James Harden has 5 of the highest fantasy points. What a fantasy god"
   ]
  },
  {
   "cell_type": "markdown",
   "metadata": {},
   "source": [
    "Let's look at players who has the top total fantasy points"
   ]
  },
  {
   "cell_type": "code",
   "execution_count": 35,
   "metadata": {},
   "outputs": [
    {
     "data": {
      "text/plain": [
       "slug       name                   team                       \n",
       "hardeja01  James Harden           Team.HOUSTON_ROCKETS           5136\n",
       "antetgi01  Giannis Antetokounmpo  Team.MILWAUKEE_BUCKS           4810\n",
       "jokicni01  Nikola Jokić           Team.DENVER_NUGGETS            4510\n",
       "westbru01  Russell Westbrook      Team.OKLAHOMA_CITY_THUNDER     4233\n",
       "lillada01  Damian Lillard         Team.PORTLAND_TRAIL_BLAZERS    4167\n",
       "duranke01  Kevin Durant           Team.GOLDEN_STATE_WARRIORS     4040\n",
       "georgpa01  Paul George            Team.OKLAHOMA_CITY_THUNDER     3988\n",
       "curryst01  Stephen Curry          Team.GOLDEN_STATE_WARRIORS     3970\n",
       "leonaka01  Kawhi Leonard          Team.TORONTO_RAPTORS           3884\n",
       "embiijo01  Joel Embiid            Team.PHILADELPHIA_76ERS        3876\n",
       "drumman01  Andre Drummond         Team.DETROIT_PISTONS           3780\n",
       "vucevni01  Nikola Vučević         Team.ORLANDO_MAGIC             3724\n",
       "townska01  Karl-Anthony Towns     Team.MINNESOTA_TIMBERWOLVES    3721\n",
       "simmobe01  Ben Simmons            Team.PHILADELPHIA_76ERS        3718\n",
       "bealbr01   Bradley Beal           Team.WASHINGTON_WIZARDS        3543\n",
       "goberru01  Rudy Gobert            Team.UTAH_JAZZ                 3530\n",
       "aldrila01  LaMarcus Aldridge      Team.SAN_ANTONIO_SPURS         3458\n",
       "walkeke02  Kemba Walker           Team.CHARLOTTE_HORNETS         3420\n",
       "siakapa01  Pascal Siakam          Team.TORONTO_RAPTORS           3412\n",
       "derozde01  DeMar DeRozan          Team.SAN_ANTONIO_SPURS         3300\n",
       "Name: fantasy_points, dtype: int64"
      ]
     },
     "execution_count": 35,
     "metadata": {},
     "output_type": "execute_result"
    }
   ],
   "source": [
    "df.groupby([\"slug\", \"name\", \"team\"]).sum().sort_values(by=\"fantasy_points\", ascending=False).head(20)[\"fantasy_points\"]"
   ]
  },
  {
   "cell_type": "markdown",
   "metadata": {},
   "source": [
    "Ranking players by total fantasy points, Harden wins out and unsurprisingly Giannis is second.\n",
    "\n",
    "The following team has 2 players in the top 20: Warriors, OKC, 76ers, Spurs, and Raptors"
   ]
  },
  {
   "cell_type": "markdown",
   "metadata": {},
   "source": [
    "### Fantasy Points Per Minute Played"
   ]
  },
  {
   "cell_type": "markdown",
   "metadata": {},
   "source": [
    "Now let's look at how a player's fantasy value changed over time"
   ]
  },
  {
   "cell_type": "code",
   "execution_count": 36,
   "metadata": {},
   "outputs": [],
   "source": [
    "def get_player_stat_fit(player_slug, stat=\"points\"):\n",
    "    df_player = df[df[\"slug\"] == player_slug]\n",
    "    N = df_player.shape[0]\n",
    "    m, c = np.linalg.lstsq(np.dstack((np.arange(N), np.ones(N)))[0], df_player[stat].values)[0]\n",
    "    return m, c"
   ]
  },
  {
   "cell_type": "code",
   "execution_count": 37,
   "metadata": {},
   "outputs": [
    {
     "name": "stderr",
     "output_type": "stream",
     "text": [
      "Each player:   0%|          | 0/354 [00:00<?, ?it/s]/home/joeyism/Programming/python/fantasy-basketball/venv/lib/python3.6/site-packages/ipykernel_launcher.py:4: FutureWarning: `rcond` parameter will change to the default of machine precision times ``max(M, N)`` where M and N are the input matrix dimensions.\n",
      "To use the future default and silence this warning we advise to pass `rcond=None`, to keep using the old, explicitly pass `rcond=-1`.\n",
      "  after removing the cwd from sys.path.\n",
      "Each player: 100%|██████████| 354/354 [00:02<00:00, 165.67it/s]\n"
     ]
    },
    {
     "data": {
      "text/html": [
       "<div>\n",
       "<style scoped>\n",
       "    .dataframe tbody tr th:only-of-type {\n",
       "        vertical-align: middle;\n",
       "    }\n",
       "\n",
       "    .dataframe tbody tr th {\n",
       "        vertical-align: top;\n",
       "    }\n",
       "\n",
       "    .dataframe thead th {\n",
       "        text-align: right;\n",
       "    }\n",
       "</style>\n",
       "<table border=\"1\" class=\"dataframe\">\n",
       "  <thead>\n",
       "    <tr style=\"text-align: right;\">\n",
       "      <th></th>\n",
       "      <th>slug</th>\n",
       "      <th>slope</th>\n",
       "      <th>y-intercept</th>\n",
       "    </tr>\n",
       "  </thead>\n",
       "  <tbody>\n",
       "    <tr>\n",
       "      <th>250</th>\n",
       "      <td>noahjo01</td>\n",
       "      <td>0.551819</td>\n",
       "      <td>7.830565</td>\n",
       "    </tr>\n",
       "    <tr>\n",
       "      <th>27</th>\n",
       "      <td>bendedr01</td>\n",
       "      <td>0.543447</td>\n",
       "      <td>0.815911</td>\n",
       "    </tr>\n",
       "    <tr>\n",
       "      <th>342</th>\n",
       "      <td>willike04</td>\n",
       "      <td>0.527598</td>\n",
       "      <td>5.629047</td>\n",
       "    </tr>\n",
       "    <tr>\n",
       "      <th>328</th>\n",
       "      <td>valanjo01</td>\n",
       "      <td>0.401224</td>\n",
       "      <td>20.513469</td>\n",
       "    </tr>\n",
       "    <tr>\n",
       "      <th>347</th>\n",
       "      <td>wrighde01</td>\n",
       "      <td>0.384865</td>\n",
       "      <td>6.960000</td>\n",
       "    </tr>\n",
       "    <tr>\n",
       "      <th>...</th>\n",
       "      <td>...</td>\n",
       "      <td>...</td>\n",
       "      <td>...</td>\n",
       "    </tr>\n",
       "    <tr>\n",
       "      <th>239</th>\n",
       "      <td>morrima02</td>\n",
       "      <td>-0.242127</td>\n",
       "      <td>25.378968</td>\n",
       "    </tr>\n",
       "    <tr>\n",
       "      <th>145</th>\n",
       "      <td>hernaju01</td>\n",
       "      <td>-0.297098</td>\n",
       "      <td>23.059298</td>\n",
       "    </tr>\n",
       "    <tr>\n",
       "      <th>226</th>\n",
       "      <td>mcgruro01</td>\n",
       "      <td>-0.308277</td>\n",
       "      <td>25.382632</td>\n",
       "    </tr>\n",
       "    <tr>\n",
       "      <th>234</th>\n",
       "      <td>mirotni01</td>\n",
       "      <td>-0.404140</td>\n",
       "      <td>37.772131</td>\n",
       "    </tr>\n",
       "    <tr>\n",
       "      <th>81</th>\n",
       "      <td>davisan02</td>\n",
       "      <td>-0.448975</td>\n",
       "      <td>68.007519</td>\n",
       "    </tr>\n",
       "  </tbody>\n",
       "</table>\n",
       "<p>354 rows × 3 columns</p>\n",
       "</div>"
      ],
      "text/plain": [
       "          slug     slope  y-intercept\n",
       "250   noahjo01  0.551819     7.830565\n",
       "27   bendedr01  0.543447     0.815911\n",
       "342  willike04  0.527598     5.629047\n",
       "328  valanjo01  0.401224    20.513469\n",
       "347  wrighde01  0.384865     6.960000\n",
       "..         ...       ...          ...\n",
       "239  morrima02 -0.242127    25.378968\n",
       "145  hernaju01 -0.297098    23.059298\n",
       "226  mcgruro01 -0.308277    25.382632\n",
       "234  mirotni01 -0.404140    37.772131\n",
       "81   davisan02 -0.448975    68.007519\n",
       "\n",
       "[354 rows x 3 columns]"
      ]
     },
     "execution_count": 37,
     "metadata": {},
     "output_type": "execute_result"
    }
   ],
   "source": [
    "player_fp_improvement = []\n",
    "for player_slug in tqdm(df_player_game_count[df_player_game_count >= 42].index.values, desc=\"Each player\"):\n",
    "    m, c = get_player_stat_fit(player_slug, stat=\"fantasy_points\")\n",
    "    player_fp_improvement.append((player_slug, m, c))\n",
    "\n",
    "df_fp_improvement = pd.DataFrame(player_fp_improvement, columns=[\"slug\", \"slope\", \"y-intercept\"])\n",
    "df_fp_improvement.sort_values(by=\"slope\", ascending=False)"
   ]
  },
  {
   "cell_type": "markdown",
   "metadata": {},
   "source": [
    "This includes all players. Let's look at players who started off with y-intercept >= 20, meaning they started off as approximately average"
   ]
  },
  {
   "cell_type": "code",
   "execution_count": 38,
   "metadata": {},
   "outputs": [
    {
     "data": {
      "text/html": [
       "<div>\n",
       "<style scoped>\n",
       "    .dataframe tbody tr th:only-of-type {\n",
       "        vertical-align: middle;\n",
       "    }\n",
       "\n",
       "    .dataframe tbody tr th {\n",
       "        vertical-align: top;\n",
       "    }\n",
       "\n",
       "    .dataframe thead th {\n",
       "        text-align: right;\n",
       "    }\n",
       "</style>\n",
       "<table border=\"1\" class=\"dataframe\">\n",
       "  <thead>\n",
       "    <tr style=\"text-align: right;\">\n",
       "      <th></th>\n",
       "      <th>slug</th>\n",
       "      <th>slope</th>\n",
       "      <th>y-intercept</th>\n",
       "    </tr>\n",
       "  </thead>\n",
       "  <tbody>\n",
       "    <tr>\n",
       "      <th>328</th>\n",
       "      <td>valanjo01</td>\n",
       "      <td>0.401224</td>\n",
       "      <td>20.513469</td>\n",
       "    </tr>\n",
       "    <tr>\n",
       "      <th>270</th>\n",
       "      <td>paytoel01</td>\n",
       "      <td>0.307431</td>\n",
       "      <td>23.316722</td>\n",
       "    </tr>\n",
       "    <tr>\n",
       "      <th>15</th>\n",
       "      <td>balllo01</td>\n",
       "      <td>0.279833</td>\n",
       "      <td>21.053191</td>\n",
       "    </tr>\n",
       "    <tr>\n",
       "      <th>91</th>\n",
       "      <td>doncilu01</td>\n",
       "      <td>0.250498</td>\n",
       "      <td>30.968417</td>\n",
       "    </tr>\n",
       "    <tr>\n",
       "      <th>166</th>\n",
       "      <td>ingrabr01</td>\n",
       "      <td>0.244472</td>\n",
       "      <td>23.092888</td>\n",
       "    </tr>\n",
       "    <tr>\n",
       "      <th>...</th>\n",
       "      <td>...</td>\n",
       "      <td>...</td>\n",
       "      <td>...</td>\n",
       "    </tr>\n",
       "    <tr>\n",
       "      <th>239</th>\n",
       "      <td>morrima02</td>\n",
       "      <td>-0.242127</td>\n",
       "      <td>25.378968</td>\n",
       "    </tr>\n",
       "    <tr>\n",
       "      <th>145</th>\n",
       "      <td>hernaju01</td>\n",
       "      <td>-0.297098</td>\n",
       "      <td>23.059298</td>\n",
       "    </tr>\n",
       "    <tr>\n",
       "      <th>226</th>\n",
       "      <td>mcgruro01</td>\n",
       "      <td>-0.308277</td>\n",
       "      <td>25.382632</td>\n",
       "    </tr>\n",
       "    <tr>\n",
       "      <th>234</th>\n",
       "      <td>mirotni01</td>\n",
       "      <td>-0.404140</td>\n",
       "      <td>37.772131</td>\n",
       "    </tr>\n",
       "    <tr>\n",
       "      <th>81</th>\n",
       "      <td>davisan02</td>\n",
       "      <td>-0.448975</td>\n",
       "      <td>68.007519</td>\n",
       "    </tr>\n",
       "  </tbody>\n",
       "</table>\n",
       "<p>162 rows × 3 columns</p>\n",
       "</div>"
      ],
      "text/plain": [
       "          slug     slope  y-intercept\n",
       "328  valanjo01  0.401224    20.513469\n",
       "270  paytoel01  0.307431    23.316722\n",
       "15    balllo01  0.279833    21.053191\n",
       "91   doncilu01  0.250498    30.968417\n",
       "166  ingrabr01  0.244472    23.092888\n",
       "..         ...       ...          ...\n",
       "239  morrima02 -0.242127    25.378968\n",
       "145  hernaju01 -0.297098    23.059298\n",
       "226  mcgruro01 -0.308277    25.382632\n",
       "234  mirotni01 -0.404140    37.772131\n",
       "81   davisan02 -0.448975    68.007519\n",
       "\n",
       "[162 rows x 3 columns]"
      ]
     },
     "execution_count": 38,
     "metadata": {},
     "output_type": "execute_result"
    }
   ],
   "source": [
    "df_fp_improvement[df_fp_improvement[\"y-intercept\"] >= 20].sort_values(by=\"slope\", ascending=False)"
   ]
  },
  {
   "cell_type": "markdown",
   "metadata": {},
   "source": [
    "We'll graph the top 3 players that has improved the most based on fantasy points through the season"
   ]
  },
  {
   "cell_type": "code",
   "execution_count": 39,
   "metadata": {},
   "outputs": [
    {
     "name": "stderr",
     "output_type": "stream",
     "text": [
      "/home/joeyism/Programming/python/fantasy-basketball/venv/lib/python3.6/site-packages/ipykernel_launcher.py:4: FutureWarning: `rcond` parameter will change to the default of machine precision times ``max(M, N)`` where M and N are the input matrix dimensions.\n",
      "To use the future default and silence this warning we advise to pass `rcond=None`, to keep using the old, explicitly pass `rcond=-1`.\n",
      "  after removing the cwd from sys.path.\n"
     ]
    },
    {
     "data": {
      "image/png": "[encoded data removed]",
      "text/plain": [
       "<Figure size 432x288 with 1 Axes>"
      ]
     },
     "metadata": {
      "needs_background": "light"
     },
     "output_type": "display_data"
    },
    {
     "name": "stdout",
     "output_type": "stream",
     "text": [
      "Jonas Valančiūnas\n",
      "\n",
      "\n"
     ]
    },
    {
     "name": "stderr",
     "output_type": "stream",
     "text": [
      "/home/joeyism/Programming/python/fantasy-basketball/venv/lib/python3.6/site-packages/ipykernel_launcher.py:4: FutureWarning: `rcond` parameter will change to the default of machine precision times ``max(M, N)`` where M and N are the input matrix dimensions.\n",
      "To use the future default and silence this warning we advise to pass `rcond=None`, to keep using the old, explicitly pass `rcond=-1`.\n",
      "  after removing the cwd from sys.path.\n"
     ]
    },
    {
     "data": {
      "image/png": "[encoded data removed]",
      "text/plain": [
       "<Figure size 432x288 with 1 Axes>"
      ]
     },
     "metadata": {
      "needs_background": "light"
     },
     "output_type": "display_data"
    },
    {
     "name": "stdout",
     "output_type": "stream",
     "text": [
      "Elfrid Payton\n",
      "\n",
      "\n"
     ]
    },
    {
     "name": "stderr",
     "output_type": "stream",
     "text": [
      "/home/joeyism/Programming/python/fantasy-basketball/venv/lib/python3.6/site-packages/ipykernel_launcher.py:4: FutureWarning: `rcond` parameter will change to the default of machine precision times ``max(M, N)`` where M and N are the input matrix dimensions.\n",
      "To use the future default and silence this warning we advise to pass `rcond=None`, to keep using the old, explicitly pass `rcond=-1`.\n",
      "  after removing the cwd from sys.path.\n"
     ]
    },
    {
     "data": {
      "image/png": "[encoded data removed]",
      "text/plain": [
       "<Figure size 432x288 with 1 Axes>"
      ]
     },
     "metadata": {
      "needs_background": "light"
     },
     "output_type": "display_data"
    },
    {
     "name": "stdout",
     "output_type": "stream",
     "text": [
      "Lonzo Ball\n",
      "\n",
      "\n"
     ]
    }
   ],
   "source": [
    "for slug in df_fp_improvement[df_fp_improvement[\"y-intercept\"] >= 20].sort_values(by=\"slope\", ascending=False).head(3)[\"slug\"]:\n",
    "    plot_player_stat(slug, stat=\"fantasy_points\")\n",
    "    get_name_from_slug(slug)\n",
    "    print(\"\\n\")"
   ]
  },
  {
   "cell_type": "markdown",
   "metadata": {},
   "source": [
    "JV, Elfrid Payton, and Lonzo Ball are 3 players who has started decently, and still improved. These may be dark horses to be drafted for next season"
   ]
  },
  {
   "cell_type": "markdown",
   "metadata": {},
   "source": [
    "Here is the list of 10 players who has the most improved stats based on fantasy points throughout the season"
   ]
  },
  {
   "cell_type": "code",
   "execution_count": 40,
   "metadata": {},
   "outputs": [
    {
     "name": "stdout",
     "output_type": "stream",
     "text": [
      "Jonas Valančiūnas\n",
      "Elfrid Payton\n",
      "Lonzo Ball\n",
      "Luka Dončić\n",
      "Brandon Ingram\n",
      "Trae Young\n",
      "Marvin Bagley\n",
      "Rajon Rondo\n",
      "Kyle Anderson\n",
      "Draymond Green\n"
     ]
    }
   ],
   "source": [
    "for slug in df_fp_improvement[df_fp_improvement[\"y-intercept\"] >= 20].sort_values(by=\"slope\", ascending=False).head(10)[\"slug\"]:\n",
    "    print(df.loc[df[\"slug\"] == slug, \"name\"].unique()[0])"
   ]
  },
  {
   "cell_type": "markdown",
   "metadata": {},
   "source": [
    "It's important to remember that these improved stats doesn't mean the players necessarily got better. They just might have seen an increase in minutes, or seen a significant coaching change, or even a team change. "
   ]
  },
  {
   "cell_type": "markdown",
   "metadata": {},
   "source": [
    "## For Raptors"
   ]
  },
  {
   "cell_type": "markdown",
   "metadata": {},
   "source": [
    "Let's look at one team, and look at how players perform through the season."
   ]
  },
  {
   "cell_type": "code",
   "execution_count": 41,
   "metadata": {},
   "outputs": [
    {
     "data": {
      "text/plain": [
       "array(['Team.GOLDEN_STATE_WARRIORS', 'Team.PHILADELPHIA_76ERS',\n",
       "       'Team.BOSTON_CELTICS', 'Team.OKLAHOMA_CITY_THUNDER',\n",
       "       'Team.NEW_ORLEANS_PELICANS', 'Team.CHARLOTTE_HORNETS',\n",
       "       'Team.PHOENIX_SUNS', 'Team.NEW_YORK_KNICKS',\n",
       "       'Team.TORONTO_RAPTORS', 'Team.MINNESOTA_TIMBERWOLVES',\n",
       "       'Team.DETROIT_PISTONS', 'Team.SACRAMENTO_KINGS',\n",
       "       'Team.BROOKLYN_NETS', 'Team.UTAH_JAZZ', 'Team.DENVER_NUGGETS',\n",
       "       'Team.HOUSTON_ROCKETS', 'Team.ORLANDO_MAGIC', 'Team.MIAMI_HEAT',\n",
       "       'Team.MILWAUKEE_BUCKS', 'Team.CLEVELAND_CAVALIERS',\n",
       "       'Team.SAN_ANTONIO_SPURS', 'Team.DALLAS_MAVERICKS',\n",
       "       'Team.LOS_ANGELES_CLIPPERS', 'Team.INDIANA_PACERS',\n",
       "       'Team.MEMPHIS_GRIZZLIES', 'Team.ATLANTA_HAWKS',\n",
       "       'Team.WASHINGTON_WIZARDS', 'Team.PORTLAND_TRAIL_BLAZERS',\n",
       "       'Team.LOS_ANGELES_LAKERS', 'Team.CHICAGO_BULLS'], dtype=object)"
      ]
     },
     "execution_count": 41,
     "metadata": {},
     "output_type": "execute_result"
    }
   ],
   "source": [
    "df[\"team\"].unique()"
   ]
  },
  {
   "cell_type": "code",
   "execution_count": 42,
   "metadata": {},
   "outputs": [
    {
     "name": "stderr",
     "output_type": "stream",
     "text": [
      "Each game:   0%|          | 0/530 [00:00<?, ?it/s]/home/joeyism/Programming/python/fantasy-basketball/venv/lib/python3.6/site-packages/ipykernel_launcher.py:6: FutureWarning: `rcond` parameter will change to the default of machine precision times ``max(M, N)`` where M and N are the input matrix dimensions.\n",
      "To use the future default and silence this warning we advise to pass `rcond=None`, to keep using the old, explicitly pass `rcond=-1`.\n",
      "  \n",
      "Each game: 100%|██████████| 530/530 [00:01<00:00, 425.56it/s]\n"
     ]
    },
    {
     "data": {
      "text/html": [
       "<div>\n",
       "<style scoped>\n",
       "    .dataframe tbody tr th:only-of-type {\n",
       "        vertical-align: middle;\n",
       "    }\n",
       "\n",
       "    .dataframe tbody tr th {\n",
       "        vertical-align: top;\n",
       "    }\n",
       "\n",
       "    .dataframe thead th {\n",
       "        text-align: right;\n",
       "    }\n",
       "</style>\n",
       "<table border=\"1\" class=\"dataframe\">\n",
       "  <thead>\n",
       "    <tr style=\"text-align: right;\">\n",
       "      <th></th>\n",
       "      <th>slug</th>\n",
       "      <th>slope</th>\n",
       "      <th>y-intercept</th>\n",
       "    </tr>\n",
       "  </thead>\n",
       "  <tbody>\n",
       "    <tr>\n",
       "      <th>388</th>\n",
       "      <td>wrighde01</td>\n",
       "      <td>0.228571</td>\n",
       "      <td>10.432653</td>\n",
       "    </tr>\n",
       "    <tr>\n",
       "      <th>90</th>\n",
       "      <td>leonaka01</td>\n",
       "      <td>0.073059</td>\n",
       "      <td>43.206162</td>\n",
       "    </tr>\n",
       "    <tr>\n",
       "      <th>105</th>\n",
       "      <td>siakapa01</td>\n",
       "      <td>0.069337</td>\n",
       "      <td>29.236813</td>\n",
       "    </tr>\n",
       "    <tr>\n",
       "      <th>212</th>\n",
       "      <td>anunoog01</td>\n",
       "      <td>-0.012691</td>\n",
       "      <td>13.791923</td>\n",
       "    </tr>\n",
       "    <tr>\n",
       "      <th>94</th>\n",
       "      <td>gasolma01</td>\n",
       "      <td>-0.017959</td>\n",
       "      <td>26.760000</td>\n",
       "    </tr>\n",
       "    <tr>\n",
       "      <th>213</th>\n",
       "      <td>powelno01</td>\n",
       "      <td>-0.023005</td>\n",
       "      <td>14.690189</td>\n",
       "    </tr>\n",
       "    <tr>\n",
       "      <th>117</th>\n",
       "      <td>greenda02</td>\n",
       "      <td>-0.036269</td>\n",
       "      <td>21.589011</td>\n",
       "    </tr>\n",
       "    <tr>\n",
       "      <th>150</th>\n",
       "      <td>vanvlfr01</td>\n",
       "      <td>-0.043896</td>\n",
       "      <td>23.011747</td>\n",
       "    </tr>\n",
       "    <tr>\n",
       "      <th>51</th>\n",
       "      <td>lowryky01</td>\n",
       "      <td>-0.069833</td>\n",
       "      <td>37.814232</td>\n",
       "    </tr>\n",
       "    <tr>\n",
       "      <th>169</th>\n",
       "      <td>ibakase01</td>\n",
       "      <td>-0.117941</td>\n",
       "      <td>33.567100</td>\n",
       "    </tr>\n",
       "    <tr>\n",
       "      <th>149</th>\n",
       "      <td>valanjo01</td>\n",
       "      <td>-0.220022</td>\n",
       "      <td>27.956989</td>\n",
       "    </tr>\n",
       "    <tr>\n",
       "      <th>502</th>\n",
       "      <td>meeksjo01</td>\n",
       "      <td>-0.456239</td>\n",
       "      <td>10.335968</td>\n",
       "    </tr>\n",
       "    <tr>\n",
       "      <th>167</th>\n",
       "      <td>linje01</td>\n",
       "      <td>-0.535484</td>\n",
       "      <td>18.709677</td>\n",
       "    </tr>\n",
       "  </tbody>\n",
       "</table>\n",
       "</div>"
      ],
      "text/plain": [
       "          slug     slope  y-intercept\n",
       "388  wrighde01  0.228571    10.432653\n",
       "90   leonaka01  0.073059    43.206162\n",
       "105  siakapa01  0.069337    29.236813\n",
       "212  anunoog01 -0.012691    13.791923\n",
       "94   gasolma01 -0.017959    26.760000\n",
       "213  powelno01 -0.023005    14.690189\n",
       "117  greenda02 -0.036269    21.589011\n",
       "150  vanvlfr01 -0.043896    23.011747\n",
       "51   lowryky01 -0.069833    37.814232\n",
       "169  ibakase01 -0.117941    33.567100\n",
       "149  valanjo01 -0.220022    27.956989\n",
       "502  meeksjo01 -0.456239    10.335968\n",
       "167    linje01 -0.535484    18.709677"
      ]
     },
     "execution_count": 42,
     "metadata": {},
     "output_type": "execute_result"
    }
   ],
   "source": [
    "df_raptors = df[df[\"team\"] == \"Team.TORONTO_RAPTORS\"]\n",
    "\n",
    "def get_player_stat_fit(player_slug, stat=\"points\"):\n",
    "    df_player = df_raptors[df_raptors[\"slug\"] == player_slug]\n",
    "    N = df_player.shape[0]\n",
    "    m, c = np.linalg.lstsq(np.dstack((np.arange(N), np.ones(N)))[0], df_player[stat].values)[0]\n",
    "    return m, c\n",
    "\n",
    "raptor_fp_improvement = []\n",
    "for player_slug in tqdm(df[\"slug\"].unique(), desc=\"Each game\"):\n",
    "    m, c = get_player_stat_fit(player_slug, stat=\"fantasy_points\")\n",
    "    raptor_fp_improvement.append((player_slug, m, c))\n",
    "    \n",
    "df_raptor_fp = pd.DataFrame(raptor_fp_improvement, columns=[\"slug\", \"slope\", \"y-intercept\"])\n",
    "df_raptor_fp[df_raptor_fp[\"y-intercept\"] >= 10].sort_values(by=\"slope\", ascending=False)"
   ]
  },
  {
   "cell_type": "markdown",
   "metadata": {},
   "source": [
    "Let's look at the top 3 Raptors that improved the most during the season"
   ]
  },
  {
   "cell_type": "code",
   "execution_count": 43,
   "metadata": {},
   "outputs": [],
   "source": [
    "def plot_raptor_stat(player_slug, stat=\"points\"):\n",
    "    df_player = df_raptors[df_raptors[\"slug\"] == player_slug]\n",
    "    N = df_player.shape[0]\n",
    "    m, c = np.linalg.lstsq(np.dstack((np.arange(N), np.ones(N)))[0], df_player[stat].values)[0]\n",
    "    x = np.arange(N)\n",
    "    plt.scatter(range(N), df_player[stat].values,color='r',marker='d')\n",
    "    plt.plot(x, m*x+c)\n",
    "    plt.xlabel(\"Number of games\")\n",
    "    plt.ylabel(stat.replace(\"_\", \" \"))\n",
    "    plt.show()"
   ]
  },
  {
   "cell_type": "code",
   "execution_count": 44,
   "metadata": {},
   "outputs": [
    {
     "name": "stderr",
     "output_type": "stream",
     "text": [
      "/home/joeyism/Programming/python/fantasy-basketball/venv/lib/python3.6/site-packages/ipykernel_launcher.py:4: FutureWarning: `rcond` parameter will change to the default of machine precision times ``max(M, N)`` where M and N are the input matrix dimensions.\n",
      "To use the future default and silence this warning we advise to pass `rcond=None`, to keep using the old, explicitly pass `rcond=-1`.\n",
      "  after removing the cwd from sys.path.\n"
     ]
    },
    {
     "data": {
      "image/png": "[encoded data removed]",
      "text/plain": [
       "<Figure size 432x288 with 1 Axes>"
      ]
     },
     "metadata": {
      "needs_background": "light"
     },
     "output_type": "display_data"
    },
    {
     "name": "stdout",
     "output_type": "stream",
     "text": [
      "Delon Wright\n"
     ]
    },
    {
     "name": "stderr",
     "output_type": "stream",
     "text": [
      "/home/joeyism/Programming/python/fantasy-basketball/venv/lib/python3.6/site-packages/ipykernel_launcher.py:4: FutureWarning: `rcond` parameter will change to the default of machine precision times ``max(M, N)`` where M and N are the input matrix dimensions.\n",
      "To use the future default and silence this warning we advise to pass `rcond=None`, to keep using the old, explicitly pass `rcond=-1`.\n",
      "  after removing the cwd from sys.path.\n"
     ]
    },
    {
     "data": {
      "image/png": "[encoded data removed]",
      "text/plain": [
       "<Figure size 432x288 with 1 Axes>"
      ]
     },
     "metadata": {
      "needs_background": "light"
     },
     "output_type": "display_data"
    },
    {
     "name": "stdout",
     "output_type": "stream",
     "text": [
      "Kawhi Leonard\n"
     ]
    },
    {
     "name": "stderr",
     "output_type": "stream",
     "text": [
      "/home/joeyism/Programming/python/fantasy-basketball/venv/lib/python3.6/site-packages/ipykernel_launcher.py:4: FutureWarning: `rcond` parameter will change to the default of machine precision times ``max(M, N)`` where M and N are the input matrix dimensions.\n",
      "To use the future default and silence this warning we advise to pass `rcond=None`, to keep using the old, explicitly pass `rcond=-1`.\n",
      "  after removing the cwd from sys.path.\n"
     ]
    },
    {
     "data": {
      "image/png": "[encoded data removed]",
      "text/plain": [
       "<Figure size 432x288 with 1 Axes>"
      ]
     },
     "metadata": {
      "needs_background": "light"
     },
     "output_type": "display_data"
    },
    {
     "name": "stdout",
     "output_type": "stream",
     "text": [
      "Pascal Siakam\n"
     ]
    }
   ],
   "source": [
    "for slug in df_raptor_fp[df_raptor_fp[\"y-intercept\"] >= 10].sort_values(by=\"slope\", ascending=False).head(3)[\"slug\"]:\n",
    "    plot_raptor_stat(slug, stat=\"fantasy_points\")\n",
    "    get_name_from_slug(slug)"
   ]
  },
  {
   "cell_type": "markdown",
   "metadata": {},
   "source": [
    "The 3 most improved Raptor are Delon Wright, Kawhi, and Spicy P. Kawhi is somehow the second most improved Raptor in the season. Delon Wright improved as time went on, then was traded before the deadline."
   ]
  },
  {
   "cell_type": "markdown",
   "metadata": {},
   "source": [
    "Let's look at JV"
   ]
  },
  {
   "cell_type": "code",
   "execution_count": 45,
   "metadata": {},
   "outputs": [
    {
     "name": "stderr",
     "output_type": "stream",
     "text": [
      "/home/joeyism/Programming/python/fantasy-basketball/venv/lib/python3.6/site-packages/ipykernel_launcher.py:4: FutureWarning: `rcond` parameter will change to the default of machine precision times ``max(M, N)`` where M and N are the input matrix dimensions.\n",
      "To use the future default and silence this warning we advise to pass `rcond=None`, to keep using the old, explicitly pass `rcond=-1`.\n",
      "  after removing the cwd from sys.path.\n"
     ]
    },
    {
     "data": {
      "image/png": "[encoded data removed]",
      "text/plain": [
       "<Figure size 432x288 with 1 Axes>"
      ]
     },
     "metadata": {
      "needs_background": "light"
     },
     "output_type": "display_data"
    },
    {
     "name": "stdout",
     "output_type": "stream",
     "text": [
      "Jonas Valančiūnas\n"
     ]
    }
   ],
   "source": [
    "plot_raptor_stat(\"valanjo01\", stat=\"fantasy_points\")\n",
    "get_name_from_slug(\"valanjo01\")"
   ]
  },
  {
   "cell_type": "markdown",
   "metadata": {},
   "source": [
    "Despite JV having an overall improvement, his stats actually decreased continuously as his time on the Raptors continued. The fact that he's one of the most improved player mid-season shows that the trade was actually very good for him."
   ]
  },
  {
   "cell_type": "markdown",
   "metadata": {},
   "source": [
    "Now let's look at the players that got worse"
   ]
  },
  {
   "cell_type": "code",
   "execution_count": 46,
   "metadata": {},
   "outputs": [
    {
     "name": "stderr",
     "output_type": "stream",
     "text": [
      "/home/joeyism/Programming/python/fantasy-basketball/venv/lib/python3.6/site-packages/ipykernel_launcher.py:4: FutureWarning: `rcond` parameter will change to the default of machine precision times ``max(M, N)`` where M and N are the input matrix dimensions.\n",
      "To use the future default and silence this warning we advise to pass `rcond=None`, to keep using the old, explicitly pass `rcond=-1`.\n",
      "  after removing the cwd from sys.path.\n"
     ]
    },
    {
     "data": {
      "image/png": "[encoded data removed]",
      "text/plain": [
       "<Figure size 432x288 with 1 Axes>"
      ]
     },
     "metadata": {
      "needs_background": "light"
     },
     "output_type": "display_data"
    },
    {
     "name": "stdout",
     "output_type": "stream",
     "text": [
      "Jodie Meeks\n"
     ]
    },
    {
     "name": "stderr",
     "output_type": "stream",
     "text": [
      "/home/joeyism/Programming/python/fantasy-basketball/venv/lib/python3.6/site-packages/ipykernel_launcher.py:4: FutureWarning: `rcond` parameter will change to the default of machine precision times ``max(M, N)`` where M and N are the input matrix dimensions.\n",
      "To use the future default and silence this warning we advise to pass `rcond=None`, to keep using the old, explicitly pass `rcond=-1`.\n",
      "  after removing the cwd from sys.path.\n"
     ]
    },
    {
     "data": {
      "image/png": "[encoded data removed]",
      "text/plain": [
       "<Figure size 432x288 with 1 Axes>"
      ]
     },
     "metadata": {
      "needs_background": "light"
     },
     "output_type": "display_data"
    },
    {
     "name": "stdout",
     "output_type": "stream",
     "text": [
      "Jeremy Lin\n"
     ]
    }
   ],
   "source": [
    "for slug in df_raptor_fp[df_raptor_fp[\"y-intercept\"] >= 10].sort_values(by=\"slope\", ascending=False).tail(2)[\"slug\"]:\n",
    "    plot_raptor_stat(slug, stat=\"fantasy_points\")\n",
    "    get_name_from_slug(slug)"
   ]
  },
  {
   "cell_type": "markdown",
   "metadata": {},
   "source": [
    "I never liked Jodie Meeks anyways"
   ]
  },
  {
   "cell_type": "markdown",
   "metadata": {},
   "source": [
    "## Fantasy Points per Minute"
   ]
  },
  {
   "cell_type": "markdown",
   "metadata": {},
   "source": [
    "Player minutes may increase or decrease through the season, but that may not be because the players are bad, but because of other reasons such as coaching, trades, injuries, etc. If fantasy points is a somewhat reliable statistical indicator of a player's performance, we can look a fantasy points per minute and see how that fluctuates to see a player's efficiency through the games"
   ]
  },
  {
   "cell_type": "code",
   "execution_count": 47,
   "metadata": {},
   "outputs": [],
   "source": [
    "df[\"fantasy_per_minute\"] = df[\"fantasy_points\"]/df[\"minutes_played\"]"
   ]
  },
  {
   "cell_type": "code",
   "execution_count": 48,
   "metadata": {},
   "outputs": [],
   "source": [
    "def get_player_stat_fit(player_slug, stat=\"points\"):\n",
    "    df_player = df[df[\"slug\"] == player_slug]\n",
    "    N = df_player.shape[0]\n",
    "    m, c = np.linalg.lstsq(np.dstack((np.arange(N), np.ones(N)))[0], df_player[stat].values)[0]\n",
    "    return m, c"
   ]
  },
  {
   "cell_type": "markdown",
   "metadata": {},
   "source": [
    "Let's look at the average fantasy per minute"
   ]
  },
  {
   "cell_type": "code",
   "execution_count": 49,
   "metadata": {},
   "outputs": [
    {
     "data": {
      "text/plain": [
       "0.8603688047360476"
      ]
     },
     "execution_count": 49,
     "metadata": {},
     "output_type": "execute_result"
    }
   ],
   "source": [
    "mean_fantasy_per_minute = df.replace([np.inf, -np.inf], np.nan).dropna(axis=0)[\"fantasy_per_minute\"].mean()\n",
    "mean_fantasy_per_minute"
   ]
  },
  {
   "cell_type": "markdown",
   "metadata": {},
   "source": [
    "We'll list out all fantasy per minute, ranked by the players that has improved the most according to fantasy points per minute"
   ]
  },
  {
   "cell_type": "code",
   "execution_count": 50,
   "metadata": {},
   "outputs": [
    {
     "name": "stderr",
     "output_type": "stream",
     "text": [
      "Each player:   0%|          | 0/354 [00:00<?, ?it/s]/home/joeyism/Programming/python/fantasy-basketball/venv/lib/python3.6/site-packages/ipykernel_launcher.py:4: FutureWarning: `rcond` parameter will change to the default of machine precision times ``max(M, N)`` where M and N are the input matrix dimensions.\n",
      "To use the future default and silence this warning we advise to pass `rcond=None`, to keep using the old, explicitly pass `rcond=-1`.\n",
      "  after removing the cwd from sys.path.\n",
      "Each player: 100%|██████████| 354/354 [00:02<00:00, 160.28it/s]\n"
     ]
    },
    {
     "data": {
      "text/html": [
       "<div>\n",
       "<style scoped>\n",
       "    .dataframe tbody tr th:only-of-type {\n",
       "        vertical-align: middle;\n",
       "    }\n",
       "\n",
       "    .dataframe tbody tr th {\n",
       "        vertical-align: top;\n",
       "    }\n",
       "\n",
       "    .dataframe thead th {\n",
       "        text-align: right;\n",
       "    }\n",
       "</style>\n",
       "<table border=\"1\" class=\"dataframe\">\n",
       "  <thead>\n",
       "    <tr style=\"text-align: right;\">\n",
       "      <th></th>\n",
       "      <th>slug</th>\n",
       "      <th>slope</th>\n",
       "      <th>y-intercept</th>\n",
       "    </tr>\n",
       "  </thead>\n",
       "  <tbody>\n",
       "    <tr>\n",
       "      <th>250</th>\n",
       "      <td>noahjo01</td>\n",
       "      <td>0.015476</td>\n",
       "      <td>0.803940</td>\n",
       "    </tr>\n",
       "    <tr>\n",
       "      <th>214</th>\n",
       "      <td>luwawti01</td>\n",
       "      <td>0.011809</td>\n",
       "      <td>0.153764</td>\n",
       "    </tr>\n",
       "    <tr>\n",
       "      <th>342</th>\n",
       "      <td>willike04</td>\n",
       "      <td>0.009516</td>\n",
       "      <td>0.436526</td>\n",
       "    </tr>\n",
       "    <tr>\n",
       "      <th>27</th>\n",
       "      <td>bendedr01</td>\n",
       "      <td>0.009257</td>\n",
       "      <td>0.411949</td>\n",
       "    </tr>\n",
       "    <tr>\n",
       "      <th>245</th>\n",
       "      <td>mykhasv01</td>\n",
       "      <td>0.008828</td>\n",
       "      <td>0.407065</td>\n",
       "    </tr>\n",
       "    <tr>\n",
       "      <th>...</th>\n",
       "      <td>...</td>\n",
       "      <td>...</td>\n",
       "      <td>...</td>\n",
       "    </tr>\n",
       "    <tr>\n",
       "      <th>84</th>\n",
       "      <td>dekkesa01</td>\n",
       "      <td>-0.009493</td>\n",
       "      <td>0.966700</td>\n",
       "    </tr>\n",
       "    <tr>\n",
       "      <th>189</th>\n",
       "      <td>kiddgmi01</td>\n",
       "      <td>-0.010416</td>\n",
       "      <td>1.129305</td>\n",
       "    </tr>\n",
       "    <tr>\n",
       "      <th>54</th>\n",
       "      <td>caldejo01</td>\n",
       "      <td>NaN</td>\n",
       "      <td>NaN</td>\n",
       "    </tr>\n",
       "    <tr>\n",
       "      <th>215</th>\n",
       "      <td>lylestr01</td>\n",
       "      <td>NaN</td>\n",
       "      <td>NaN</td>\n",
       "    </tr>\n",
       "    <tr>\n",
       "      <th>218</th>\n",
       "      <td>marjabo01</td>\n",
       "      <td>NaN</td>\n",
       "      <td>NaN</td>\n",
       "    </tr>\n",
       "  </tbody>\n",
       "</table>\n",
       "<p>354 rows × 3 columns</p>\n",
       "</div>"
      ],
      "text/plain": [
       "          slug     slope  y-intercept\n",
       "250   noahjo01  0.015476     0.803940\n",
       "214  luwawti01  0.011809     0.153764\n",
       "342  willike04  0.009516     0.436526\n",
       "27   bendedr01  0.009257     0.411949\n",
       "245  mykhasv01  0.008828     0.407065\n",
       "..         ...       ...          ...\n",
       "84   dekkesa01 -0.009493     0.966700\n",
       "189  kiddgmi01 -0.010416     1.129305\n",
       "54   caldejo01       NaN          NaN\n",
       "215  lylestr01       NaN          NaN\n",
       "218  marjabo01       NaN          NaN\n",
       "\n",
       "[354 rows x 3 columns]"
      ]
     },
     "execution_count": 50,
     "metadata": {},
     "output_type": "execute_result"
    }
   ],
   "source": [
    "player_improvement = []\n",
    "for player_slug in tqdm(df_player_game_count[df_player_game_count >= 42].index.values, desc=\"Each player\"):\n",
    "    m, c = get_player_stat_fit(player_slug, stat=\"fantasy_per_minute\")\n",
    "    player_improvement.append((player_slug, m, c))\n",
    "\n",
    "df_improvement = pd.DataFrame(player_improvement, columns=[\"slug\", \"slope\", \"y-intercept\"])\n",
    "df_improvement.sort_values(by=\"slope\", ascending=False)"
   ]
  },
  {
   "cell_type": "markdown",
   "metadata": {},
   "source": [
    "Let's look at players who started with approximately average fantasy_per_minute stats, and has improved the most, so that the improvements means more"
   ]
  },
  {
   "cell_type": "code",
   "execution_count": 51,
   "metadata": {},
   "outputs": [
    {
     "data": {
      "text/html": [
       "<div>\n",
       "<style scoped>\n",
       "    .dataframe tbody tr th:only-of-type {\n",
       "        vertical-align: middle;\n",
       "    }\n",
       "\n",
       "    .dataframe tbody tr th {\n",
       "        vertical-align: top;\n",
       "    }\n",
       "\n",
       "    .dataframe thead th {\n",
       "        text-align: right;\n",
       "    }\n",
       "</style>\n",
       "<table border=\"1\" class=\"dataframe\">\n",
       "  <thead>\n",
       "    <tr style=\"text-align: right;\">\n",
       "      <th></th>\n",
       "      <th>slug</th>\n",
       "      <th>slope</th>\n",
       "      <th>y-intercept</th>\n",
       "    </tr>\n",
       "  </thead>\n",
       "  <tbody>\n",
       "    <tr>\n",
       "      <th>91</th>\n",
       "      <td>doncilu01</td>\n",
       "      <td>0.007905</td>\n",
       "      <td>0.955091</td>\n",
       "    </tr>\n",
       "    <tr>\n",
       "      <th>286</th>\n",
       "      <td>robinmi01</td>\n",
       "      <td>0.005917</td>\n",
       "      <td>0.982553</td>\n",
       "    </tr>\n",
       "    <tr>\n",
       "      <th>270</th>\n",
       "      <td>paytoel01</td>\n",
       "      <td>0.004919</td>\n",
       "      <td>0.860815</td>\n",
       "    </tr>\n",
       "    <tr>\n",
       "      <th>322</th>\n",
       "      <td>townska01</td>\n",
       "      <td>0.004707</td>\n",
       "      <td>1.278375</td>\n",
       "    </tr>\n",
       "    <tr>\n",
       "      <th>38</th>\n",
       "      <td>bookede01</td>\n",
       "      <td>0.004140</td>\n",
       "      <td>1.005067</td>\n",
       "    </tr>\n",
       "    <tr>\n",
       "      <th>...</th>\n",
       "      <td>...</td>\n",
       "      <td>...</td>\n",
       "      <td>...</td>\n",
       "    </tr>\n",
       "    <tr>\n",
       "      <th>20</th>\n",
       "      <td>baynear01</td>\n",
       "      <td>-0.006151</td>\n",
       "      <td>1.003529</td>\n",
       "    </tr>\n",
       "    <tr>\n",
       "      <th>234</th>\n",
       "      <td>mirotni01</td>\n",
       "      <td>-0.008076</td>\n",
       "      <td>1.201191</td>\n",
       "    </tr>\n",
       "    <tr>\n",
       "      <th>59</th>\n",
       "      <td>cartewe01</td>\n",
       "      <td>-0.008119</td>\n",
       "      <td>1.148104</td>\n",
       "    </tr>\n",
       "    <tr>\n",
       "      <th>84</th>\n",
       "      <td>dekkesa01</td>\n",
       "      <td>-0.009493</td>\n",
       "      <td>0.966700</td>\n",
       "    </tr>\n",
       "    <tr>\n",
       "      <th>189</th>\n",
       "      <td>kiddgmi01</td>\n",
       "      <td>-0.010416</td>\n",
       "      <td>1.129305</td>\n",
       "    </tr>\n",
       "  </tbody>\n",
       "</table>\n",
       "<p>159 rows × 3 columns</p>\n",
       "</div>"
      ],
      "text/plain": [
       "          slug     slope  y-intercept\n",
       "91   doncilu01  0.007905     0.955091\n",
       "286  robinmi01  0.005917     0.982553\n",
       "270  paytoel01  0.004919     0.860815\n",
       "322  townska01  0.004707     1.278375\n",
       "38   bookede01  0.004140     1.005067\n",
       "..         ...       ...          ...\n",
       "20   baynear01 -0.006151     1.003529\n",
       "234  mirotni01 -0.008076     1.201191\n",
       "59   cartewe01 -0.008119     1.148104\n",
       "84   dekkesa01 -0.009493     0.966700\n",
       "189  kiddgmi01 -0.010416     1.129305\n",
       "\n",
       "[159 rows x 3 columns]"
      ]
     },
     "execution_count": 51,
     "metadata": {},
     "output_type": "execute_result"
    }
   ],
   "source": [
    "df_improvement[df_improvement[\"y-intercept\"] >= mean_fantasy_per_minute].sort_values(by=\"slope\", ascending=False)"
   ]
  },
  {
   "cell_type": "code",
   "execution_count": 52,
   "metadata": {},
   "outputs": [],
   "source": [
    "def plot_player_stat(player_slug, stat=\"points\"):\n",
    "    df_player = df[df[\"slug\"] == player_slug]\n",
    "    N = df_player.shape[0]\n",
    "    m, c = np.linalg.lstsq(np.dstack((np.arange(N), np.ones(N)))[0], df_player[stat].values)[0]\n",
    "    x = np.arange(N)\n",
    "    plt.scatter(range(N), df_player[stat].values,color='r',marker='d')\n",
    "    plt.plot(x, m*x+c)\n",
    "    plt.xlabel(\"Number of games\")\n",
    "    plt.ylabel(stat.replace(\"_\", \" \"))\n",
    "    plt.show()"
   ]
  },
  {
   "cell_type": "code",
   "execution_count": 53,
   "metadata": {},
   "outputs": [
    {
     "name": "stderr",
     "output_type": "stream",
     "text": [
      "/home/joeyism/Programming/python/fantasy-basketball/venv/lib/python3.6/site-packages/ipykernel_launcher.py:4: FutureWarning: `rcond` parameter will change to the default of machine precision times ``max(M, N)`` where M and N are the input matrix dimensions.\n",
      "To use the future default and silence this warning we advise to pass `rcond=None`, to keep using the old, explicitly pass `rcond=-1`.\n",
      "  after removing the cwd from sys.path.\n"
     ]
    },
    {
     "data": {
      "image/png": "[encoded data removed]",
      "text/plain": [
       "<Figure size 432x288 with 1 Axes>"
      ]
     },
     "metadata": {
      "needs_background": "light"
     },
     "output_type": "display_data"
    },
    {
     "name": "stdout",
     "output_type": "stream",
     "text": [
      "Luka Dončić\n"
     ]
    },
    {
     "name": "stderr",
     "output_type": "stream",
     "text": [
      "/home/joeyism/Programming/python/fantasy-basketball/venv/lib/python3.6/site-packages/ipykernel_launcher.py:4: FutureWarning: `rcond` parameter will change to the default of machine precision times ``max(M, N)`` where M and N are the input matrix dimensions.\n",
      "To use the future default and silence this warning we advise to pass `rcond=None`, to keep using the old, explicitly pass `rcond=-1`.\n",
      "  after removing the cwd from sys.path.\n"
     ]
    },
    {
     "data": {
      "image/png": "[encoded data removed]",
      "text/plain": [
       "<Figure size 432x288 with 1 Axes>"
      ]
     },
     "metadata": {
      "needs_background": "light"
     },
     "output_type": "display_data"
    },
    {
     "name": "stdout",
     "output_type": "stream",
     "text": [
      "Mitchell Robinson\n"
     ]
    },
    {
     "name": "stderr",
     "output_type": "stream",
     "text": [
      "/home/joeyism/Programming/python/fantasy-basketball/venv/lib/python3.6/site-packages/ipykernel_launcher.py:4: FutureWarning: `rcond` parameter will change to the default of machine precision times ``max(M, N)`` where M and N are the input matrix dimensions.\n",
      "To use the future default and silence this warning we advise to pass `rcond=None`, to keep using the old, explicitly pass `rcond=-1`.\n",
      "  after removing the cwd from sys.path.\n"
     ]
    },
    {
     "data": {
      "image/png": "[encoded data removed]",
      "text/plain": [
       "<Figure size 432x288 with 1 Axes>"
      ]
     },
     "metadata": {
      "needs_background": "light"
     },
     "output_type": "display_data"
    },
    {
     "name": "stdout",
     "output_type": "stream",
     "text": [
      "Elfrid Payton\n"
     ]
    },
    {
     "name": "stderr",
     "output_type": "stream",
     "text": [
      "/home/joeyism/Programming/python/fantasy-basketball/venv/lib/python3.6/site-packages/ipykernel_launcher.py:4: FutureWarning: `rcond` parameter will change to the default of machine precision times ``max(M, N)`` where M and N are the input matrix dimensions.\n",
      "To use the future default and silence this warning we advise to pass `rcond=None`, to keep using the old, explicitly pass `rcond=-1`.\n",
      "  after removing the cwd from sys.path.\n"
     ]
    },
    {
     "data": {
      "image/png": "[encoded data removed]",
      "text/plain": [
       "<Figure size 432x288 with 1 Axes>"
      ]
     },
     "metadata": {
      "needs_background": "light"
     },
     "output_type": "display_data"
    },
    {
     "name": "stdout",
     "output_type": "stream",
     "text": [
      "Karl-Anthony Towns\n"
     ]
    },
    {
     "name": "stderr",
     "output_type": "stream",
     "text": [
      "/home/joeyism/Programming/python/fantasy-basketball/venv/lib/python3.6/site-packages/ipykernel_launcher.py:4: FutureWarning: `rcond` parameter will change to the default of machine precision times ``max(M, N)`` where M and N are the input matrix dimensions.\n",
      "To use the future default and silence this warning we advise to pass `rcond=None`, to keep using the old, explicitly pass `rcond=-1`.\n",
      "  after removing the cwd from sys.path.\n"
     ]
    },
    {
     "data": {
      "image/png": "[encoded data removed]",
      "text/plain": [
       "<Figure size 432x288 with 1 Axes>"
      ]
     },
     "metadata": {
      "needs_background": "light"
     },
     "output_type": "display_data"
    },
    {
     "name": "stdout",
     "output_type": "stream",
     "text": [
      "Devin Booker\n"
     ]
    }
   ],
   "source": [
    "for slug in df_improvement[df_improvement[\"y-intercept\"] >= mean_fantasy_per_minute].sort_values(by=\"slope\", ascending=False).head(5)[\"slug\"].values:\n",
    "    plot_player_stat(slug, stat=\"fantasy_per_minute\")\n",
    "    get_name_from_slug(slug)"
   ]
  },
  {
   "cell_type": "markdown",
   "metadata": {},
   "source": [
    "Doncic, Mitchell Robinson, KAT, Booker, and Marvin Bagley are 5 young players are players who started off with decent efficiency, and has increased as the season went on. While we don't know if they can continue to improve at this rate, they're definitely players to keep an eye on. In fact, Doncic has improved quite a leap even compared to others. It's also interesting that Booker and KAT has continued to improve even after a few season in the NBA."
   ]
  },
  {
   "cell_type": "markdown",
   "metadata": {},
   "source": [
    "Let's look at players who has gotten the worst efficiency based on fantasy points"
   ]
  },
  {
   "cell_type": "code",
   "execution_count": 54,
   "metadata": {},
   "outputs": [
    {
     "name": "stderr",
     "output_type": "stream",
     "text": [
      "/home/joeyism/Programming/python/fantasy-basketball/venv/lib/python3.6/site-packages/ipykernel_launcher.py:4: FutureWarning: `rcond` parameter will change to the default of machine precision times ``max(M, N)`` where M and N are the input matrix dimensions.\n",
      "To use the future default and silence this warning we advise to pass `rcond=None`, to keep using the old, explicitly pass `rcond=-1`.\n",
      "  after removing the cwd from sys.path.\n"
     ]
    },
    {
     "data": {
      "image/png": "[encoded data removed]",
      "text/plain": [
       "<Figure size 432x288 with 1 Axes>"
      ]
     },
     "metadata": {
      "needs_background": "light"
     },
     "output_type": "display_data"
    },
    {
     "name": "stdout",
     "output_type": "stream",
     "text": [
      "Aron Baynes\n"
     ]
    },
    {
     "name": "stderr",
     "output_type": "stream",
     "text": [
      "/home/joeyism/Programming/python/fantasy-basketball/venv/lib/python3.6/site-packages/ipykernel_launcher.py:4: FutureWarning: `rcond` parameter will change to the default of machine precision times ``max(M, N)`` where M and N are the input matrix dimensions.\n",
      "To use the future default and silence this warning we advise to pass `rcond=None`, to keep using the old, explicitly pass `rcond=-1`.\n",
      "  after removing the cwd from sys.path.\n"
     ]
    },
    {
     "data": {
      "image/png": "[encoded data removed]",
      "text/plain": [
       "<Figure size 432x288 with 1 Axes>"
      ]
     },
     "metadata": {
      "needs_background": "light"
     },
     "output_type": "display_data"
    },
    {
     "name": "stdout",
     "output_type": "stream",
     "text": [
      "Nikola Mirotić\n"
     ]
    },
    {
     "name": "stderr",
     "output_type": "stream",
     "text": [
      "/home/joeyism/Programming/python/fantasy-basketball/venv/lib/python3.6/site-packages/ipykernel_launcher.py:4: FutureWarning: `rcond` parameter will change to the default of machine precision times ``max(M, N)`` where M and N are the input matrix dimensions.\n",
      "To use the future default and silence this warning we advise to pass `rcond=None`, to keep using the old, explicitly pass `rcond=-1`.\n",
      "  after removing the cwd from sys.path.\n"
     ]
    },
    {
     "data": {
      "image/png": "[encoded data removed]",
      "text/plain": [
       "<Figure size 432x288 with 1 Axes>"
      ]
     },
     "metadata": {
      "needs_background": "light"
     },
     "output_type": "display_data"
    },
    {
     "name": "stdout",
     "output_type": "stream",
     "text": [
      "Wendell Carter\n"
     ]
    },
    {
     "name": "stderr",
     "output_type": "stream",
     "text": [
      "/home/joeyism/Programming/python/fantasy-basketball/venv/lib/python3.6/site-packages/ipykernel_launcher.py:4: FutureWarning: `rcond` parameter will change to the default of machine precision times ``max(M, N)`` where M and N are the input matrix dimensions.\n",
      "To use the future default and silence this warning we advise to pass `rcond=None`, to keep using the old, explicitly pass `rcond=-1`.\n",
      "  after removing the cwd from sys.path.\n"
     ]
    },
    {
     "data": {
      "image/png": "[encoded data removed]",
      "text/plain": [
       "<Figure size 432x288 with 1 Axes>"
      ]
     },
     "metadata": {
      "needs_background": "light"
     },
     "output_type": "display_data"
    },
    {
     "name": "stdout",
     "output_type": "stream",
     "text": [
      "Sam Dekker\n"
     ]
    },
    {
     "name": "stderr",
     "output_type": "stream",
     "text": [
      "/home/joeyism/Programming/python/fantasy-basketball/venv/lib/python3.6/site-packages/ipykernel_launcher.py:4: FutureWarning: `rcond` parameter will change to the default of machine precision times ``max(M, N)`` where M and N are the input matrix dimensions.\n",
      "To use the future default and silence this warning we advise to pass `rcond=None`, to keep using the old, explicitly pass `rcond=-1`.\n",
      "  after removing the cwd from sys.path.\n"
     ]
    },
    {
     "data": {
      "image/png": "[encoded data removed]",
      "text/plain": [
       "<Figure size 432x288 with 1 Axes>"
      ]
     },
     "metadata": {
      "needs_background": "light"
     },
     "output_type": "display_data"
    },
    {
     "name": "stdout",
     "output_type": "stream",
     "text": [
      "Michael Kidd-Gilchrist\n"
     ]
    }
   ],
   "source": [
    "for slug in df_improvement[df_improvement[\"y-intercept\"] >= mean_fantasy_per_minute].sort_values(by=\"slope\", ascending=False).tail(5)[\"slug\"].values:\n",
    "    plot_player_stat(slug, stat=\"fantasy_per_minute\")\n",
    "    get_name_from_slug(slug)"
   ]
  },
  {
   "cell_type": "markdown",
   "metadata": {},
   "source": [
    "## Next Steps"
   ]
  },
  {
   "cell_type": "markdown",
   "metadata": {},
   "source": [
    "This just shows a bit of what can be achieved in the data. While rebounds was lightly touched on, you can dive deeper into rebounds. That analysis can be also reproduced for assists, blocks, steals, FG%, 3pt FG%, FT%, 3s made, etc calculate which player is worth drafting the following season. Of course, you can combine stats to calculate stats such as [PER](https://www.basketball-reference.com/about/per.html), [offensive and defensive rating](https://www.basketball-reference.com/about/ratings.html), and [Win Shares](https://www.basketball-reference.com/about/ws.html)"
   ]
  },
  {
   "cell_type": "markdown",
   "metadata": {},
   "source": [
    "## Just For Fun"
   ]
  },
  {
   "cell_type": "markdown",
   "metadata": {},
   "source": [
    "April 10th is the last day of the season, so let's just take the regular season"
   ]
  },
  {
   "cell_type": "code",
   "execution_count": 55,
   "metadata": {},
   "outputs": [],
   "source": [
    "df[\"date\"] = pd.to_datetime(df[\"date\"])"
   ]
  },
  {
   "cell_type": "code",
   "execution_count": 56,
   "metadata": {},
   "outputs": [],
   "source": [
    "df_regular_season = df.loc[df[\"date\"] <= '2019-04-10', :]"
   ]
  },
  {
   "cell_type": "code",
   "execution_count": 57,
   "metadata": {},
   "outputs": [
    {
     "data": {
      "text/plain": [
       "team\n",
       "Team.GOLDEN_STATE_WARRIORS     19749\n",
       "Team.MILWAUKEE_BUCKS           19613\n",
       "Team.OKLAHOMA_CITY_THUNDER     19102\n",
       "Team.NEW_ORLEANS_PELICANS      19052\n",
       "Team.PHILADELPHIA_76ERS        19020\n",
       "Team.BOSTON_CELTICS            18857\n",
       "Team.TORONTO_RAPTORS           18847\n",
       "Team.UTAH_JAZZ                 18774\n",
       "Team.SACRAMENTO_KINGS          18635\n",
       "Team.DENVER_NUGGETS            18593\n",
       "Team.MINNESOTA_TIMBERWOLVES    18546\n",
       "Team.ATLANTA_HAWKS             18527\n",
       "Team.LOS_ANGELES_LAKERS        18467\n",
       "Team.WASHINGTON_WIZARDS        18450\n",
       "Team.PORTLAND_TRAIL_BLAZERS    18372\n",
       "Team.LOS_ANGELES_CLIPPERS      18192\n",
       "Team.INDIANA_PACERS            18171\n",
       "Team.HOUSTON_ROCKETS           18039\n",
       "Team.ORLANDO_MAGIC             17977\n",
       "Team.MIAMI_HEAT                17940\n",
       "Team.CHARLOTTE_HORNETS         17900\n",
       "Team.SAN_ANTONIO_SPURS         17890\n",
       "Team.BROOKLYN_NETS             17801\n",
       "Team.PHOENIX_SUNS              17596\n",
       "Team.MEMPHIS_GRIZZLIES         17512\n",
       "Team.DALLAS_MAVERICKS          17419\n",
       "Team.DETROIT_PISTONS           17226\n",
       "Team.NEW_YORK_KNICKS           16933\n",
       "Team.CHICAGO_BULLS             16904\n",
       "Team.CLEVELAND_CAVALIERS       16106\n",
       "Name: fantasy_points, dtype: int64"
      ]
     },
     "execution_count": 57,
     "metadata": {},
     "output_type": "execute_result"
    }
   ],
   "source": [
    "df_regular_season.groupby(\"team\").sum()[\"fantasy_points\"].sort_values(ascending=False)"
   ]
  },
  {
   "cell_type": "markdown",
   "metadata": {},
   "source": [
    "In the regular season, GSW and Bucks had the best fantasy points. Surprisingly, New Orleans and OKC had really high points, and Dallas and Pistons has really low points despite their higher position overall. I wonder if it's related to pace and defense, which doesn't show up on stats. T"
   ]
  },
  {
   "cell_type": "markdown",
   "metadata": {},
   "source": [
    "Let's look at distribution of fantasy points for a few teams"
   ]
  },
  {
   "cell_type": "code",
   "execution_count": 58,
   "metadata": {},
   "outputs": [],
   "source": [
    "def plot_fantasy_points_per_player_for_team(team):\n",
    "    plt.ylabel(\"fantasy points\")\n",
    "    plt.title(team.split(\".\")[1])\n",
    "    df[df[\"team\"] == team].groupby(\"name\").sum()[\"fantasy_points\"].sort_values().plot.bar()"
   ]
  },
  {
   "cell_type": "code",
   "execution_count": 59,
   "metadata": {},
   "outputs": [
    {
     "data": {
      "image/png": "[encoded data removed]",
      "text/plain": [
       "<Figure size 432x288 with 1 Axes>"
      ]
     },
     "metadata": {
      "needs_background": "light"
     },
     "output_type": "display_data"
    }
   ],
   "source": [
    "plot_fantasy_points_per_player_for_team(\"Team.TORONTO_RAPTORS\")"
   ]
  },
  {
   "cell_type": "markdown",
   "metadata": {},
   "source": [
    "This looks pretty good for a team"
   ]
  },
  {
   "cell_type": "code",
   "execution_count": 60,
   "metadata": {},
   "outputs": [
    {
     "data": {
      "image/png": "[encoded data removed]",
      "text/plain": [
       "<Figure size 432x288 with 1 Axes>"
      ]
     },
     "metadata": {
      "needs_background": "light"
     },
     "output_type": "display_data"
    }
   ],
   "source": [
    "plot_fantasy_points_per_player_for_team(\"Team.MILWAUKEE_BUCKS\")"
   ]
  },
  {
   "cell_type": "markdown",
   "metadata": {},
   "source": [
    "One guy dominates"
   ]
  },
  {
   "cell_type": "code",
   "execution_count": 61,
   "metadata": {},
   "outputs": [
    {
     "data": {
      "image/png": "[encoded data removed]",
      "text/plain": [
       "<Figure size 432x288 with 1 Axes>"
      ]
     },
     "metadata": {
      "needs_background": "light"
     },
     "output_type": "display_data"
    }
   ],
   "source": [
    "plot_fantasy_points_per_player_for_team(\"Team.GOLDEN_STATE_WARRIORS\")"
   ]
  },
  {
   "cell_type": "markdown",
   "metadata": {},
   "source": [
    "Top 4 dominates, and top 2 really dominates"
   ]
  },
  {
   "cell_type": "code",
   "execution_count": 62,
   "metadata": {},
   "outputs": [
    {
     "data": {
      "image/png": "[encoded data removed]",
      "text/plain": [
       "<Figure size 432x288 with 1 Axes>"
      ]
     },
     "metadata": {
      "needs_background": "light"
     },
     "output_type": "display_data"
    }
   ],
   "source": [
    "plot_fantasy_points_per_player_for_team(\"Team.HOUSTON_ROCKETS\")"
   ]
  },
  {
   "cell_type": "markdown",
   "metadata": {},
   "source": [
    "Much like Bucks, one guy dominates, but he dominates harder and has less help"
   ]
  },
  {
   "cell_type": "code",
   "execution_count": 63,
   "metadata": {},
   "outputs": [
    {
     "data": {
      "image/png": "[encoded data removed]",
      "text/plain": [
       "<Figure size 432x288 with 1 Axes>"
      ]
     },
     "metadata": {
      "needs_background": "light"
     },
     "output_type": "display_data"
    }
   ],
   "source": [
    "plot_fantasy_points_per_player_for_team(\"Team.PORTLAND_TRAIL_BLAZERS\")"
   ]
  },
  {
   "cell_type": "markdown",
   "metadata": {},
   "source": [
    "Dropoff from Lillard to McCollum was actually pretty significant. McCollum's fantasy points is similar to that of Capella, lower than Middleton."
   ]
  }
 ],
 "metadata": {
  "kernelspec": {
   "display_name": "venv",
   "language": "python",
   "name": "venv"
  },
  "language_info": {
   "codemirror_mode": {
    "name": "ipython",
    "version": 3
   },
   "file_extension": ".py",
   "mimetype": "text/x-python",
   "name": "python",
   "nbconvert_exporter": "python",
   "pygments_lexer": "ipython3",
   "version": "3.6.9"
  }
 },
 "nbformat": 4,
 "nbformat_minor": 4
}
